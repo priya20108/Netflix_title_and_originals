{
  "nbformat": 4,
  "nbformat_minor": 0,
  "metadata": {
    "colab": {
      "name": "priya netflix_titles _and_originals.ipynb",
      "provenance": [],
      "collapsed_sections": []
    },
    "kernelspec": {
      "name": "python3",
      "display_name": "Python 3"
    },
    "language_info": {
      "name": "python"
    }
  },
  "cells": [
    {
      "cell_type": "code",
      "metadata": {
        "colab": {
          "base_uri": "https://localhost:8080/"
        },
        "id": "OPrYbVnKfLin",
        "outputId": "2e402aa3-90bd-4319-dd1b-9a8f015e8fc5"
      },
      "source": [
        "pip install pyforest"
      ],
      "execution_count": null,
      "outputs": [
        {
          "output_type": "stream",
          "name": "stdout",
          "text": [
            "Requirement already satisfied: pyforest in /usr/local/lib/python3.7/dist-packages (1.1.0)\n"
          ]
        }
      ]
    },
    {
      "cell_type": "code",
      "metadata": {
        "colab": {
          "base_uri": "https://localhost:8080/",
          "height": 293
        },
        "id": "GPe8_8H5fA84",
        "outputId": "6605077f-a40a-4ff6-c181-3a24b73c1a34"
      },
      "source": [
        "import pyforest\n",
        "import warnings\n",
        "warnings.filterwarnings('ignore')\n",
        "netflix_df=pd.read_csv('/content/netflix_titles.csv')\n",
        "netflix_df.head()"
      ],
      "execution_count": null,
      "outputs": [
        {
          "output_type": "display_data",
          "data": {
            "application/javascript": [
              "\n",
              "        if (window._pyforest_update_imports_cell) { window._pyforest_update_imports_cell('import plotly.express as px\\nimport pydot\\nfrom sklearn.feature_extraction.text import CountVectorizer\\nimport seaborn as sns\\nfrom sklearn.model_selection import cross_val_score\\nfrom sklearn.linear_model import LassoCV\\nimport pickle\\nimport plotly as py\\nfrom sklearn.linear_model import LinearRegression\\nfrom sklearn.ensemble import GradientBoostingRegressor\\nfrom statsmodels.tsa.arima_model import ARIMA\\nimport altair as alt\\nimport bokeh\\nfrom sklearn.ensemble import GradientBoostingClassifier\\nfrom sklearn.model_selection import GridSearchCV\\nfrom sklearn.preprocessing import LabelEncoder\\nfrom sklearn.linear_model import Lasso\\nimport pandas as pd\\nimport matplotlib.pyplot as plt\\nimport cv2\\nfrom sklearn.linear_model import LogisticRegression'); }\n",
              "    "
            ],
            "text/plain": [
              "<IPython.core.display.Javascript object>"
            ]
          },
          "metadata": {}
        },
        {
          "output_type": "execute_result",
          "data": {
            "text/html": [
              "<div>\n",
              "<style scoped>\n",
              "    .dataframe tbody tr th:only-of-type {\n",
              "        vertical-align: middle;\n",
              "    }\n",
              "\n",
              "    .dataframe tbody tr th {\n",
              "        vertical-align: top;\n",
              "    }\n",
              "\n",
              "    .dataframe thead th {\n",
              "        text-align: right;\n",
              "    }\n",
              "</style>\n",
              "<table border=\"1\" class=\"dataframe\">\n",
              "  <thead>\n",
              "    <tr style=\"text-align: right;\">\n",
              "      <th></th>\n",
              "      <th>show_id</th>\n",
              "      <th>type</th>\n",
              "      <th>title</th>\n",
              "      <th>director</th>\n",
              "      <th>cast</th>\n",
              "      <th>country</th>\n",
              "      <th>date_added</th>\n",
              "      <th>release_year</th>\n",
              "      <th>rating</th>\n",
              "      <th>duration</th>\n",
              "      <th>listed_in</th>\n",
              "      <th>description</th>\n",
              "    </tr>\n",
              "  </thead>\n",
              "  <tbody>\n",
              "    <tr>\n",
              "      <th>0</th>\n",
              "      <td>s1</td>\n",
              "      <td>TV Show</td>\n",
              "      <td>3%</td>\n",
              "      <td>NaN</td>\n",
              "      <td>João Miguel, Bianca Comparato, Michel Gomes, R...</td>\n",
              "      <td>Brazil</td>\n",
              "      <td>August 14, 2020</td>\n",
              "      <td>2020</td>\n",
              "      <td>TV-MA</td>\n",
              "      <td>4 Seasons</td>\n",
              "      <td>International TV Shows, TV Dramas, TV Sci-Fi &amp;...</td>\n",
              "      <td>In a future where the elite inhabit an island ...</td>\n",
              "    </tr>\n",
              "    <tr>\n",
              "      <th>1</th>\n",
              "      <td>s2</td>\n",
              "      <td>Movie</td>\n",
              "      <td>7:19</td>\n",
              "      <td>Jorge Michel Grau</td>\n",
              "      <td>Demián Bichir, Héctor Bonilla, Oscar Serrano, ...</td>\n",
              "      <td>Mexico</td>\n",
              "      <td>December 23, 2016</td>\n",
              "      <td>2016</td>\n",
              "      <td>TV-MA</td>\n",
              "      <td>93 min</td>\n",
              "      <td>Dramas, International Movies</td>\n",
              "      <td>After a devastating earthquake hits Mexico Cit...</td>\n",
              "    </tr>\n",
              "    <tr>\n",
              "      <th>2</th>\n",
              "      <td>s3</td>\n",
              "      <td>Movie</td>\n",
              "      <td>23:59</td>\n",
              "      <td>Gilbert Chan</td>\n",
              "      <td>Tedd Chan, Stella Chung, Henley Hii, Lawrence ...</td>\n",
              "      <td>Singapore</td>\n",
              "      <td>December 20, 2018</td>\n",
              "      <td>2011</td>\n",
              "      <td>R</td>\n",
              "      <td>78 min</td>\n",
              "      <td>Horror Movies, International Movies</td>\n",
              "      <td>When an army recruit is found dead, his fellow...</td>\n",
              "    </tr>\n",
              "    <tr>\n",
              "      <th>3</th>\n",
              "      <td>s4</td>\n",
              "      <td>Movie</td>\n",
              "      <td>9</td>\n",
              "      <td>Shane Acker</td>\n",
              "      <td>Elijah Wood, John C. Reilly, Jennifer Connelly...</td>\n",
              "      <td>United States</td>\n",
              "      <td>November 16, 2017</td>\n",
              "      <td>2009</td>\n",
              "      <td>PG-13</td>\n",
              "      <td>80 min</td>\n",
              "      <td>Action &amp; Adventure, Independent Movies, Sci-Fi...</td>\n",
              "      <td>In a postapocalyptic world, rag-doll robots hi...</td>\n",
              "    </tr>\n",
              "    <tr>\n",
              "      <th>4</th>\n",
              "      <td>s5</td>\n",
              "      <td>Movie</td>\n",
              "      <td>21</td>\n",
              "      <td>Robert Luketic</td>\n",
              "      <td>Jim Sturgess, Kevin Spacey, Kate Bosworth, Aar...</td>\n",
              "      <td>United States</td>\n",
              "      <td>January 1, 2020</td>\n",
              "      <td>2008</td>\n",
              "      <td>PG-13</td>\n",
              "      <td>123 min</td>\n",
              "      <td>Dramas</td>\n",
              "      <td>A brilliant group of students become card-coun...</td>\n",
              "    </tr>\n",
              "  </tbody>\n",
              "</table>\n",
              "</div>"
            ],
            "text/plain": [
              "  show_id  ...                                        description\n",
              "0      s1  ...  In a future where the elite inhabit an island ...\n",
              "1      s2  ...  After a devastating earthquake hits Mexico Cit...\n",
              "2      s3  ...  When an army recruit is found dead, his fellow...\n",
              "3      s4  ...  In a postapocalyptic world, rag-doll robots hi...\n",
              "4      s5  ...  A brilliant group of students become card-coun...\n",
              "\n",
              "[5 rows x 12 columns]"
            ]
          },
          "metadata": {},
          "execution_count": 59
        }
      ]
    },
    {
      "cell_type": "code",
      "metadata": {
        "colab": {
          "base_uri": "https://localhost:8080/"
        },
        "id": "C1fhIr2efmmE",
        "outputId": "8b343194-4aaa-4139-ad54-fc110e0396fa"
      },
      "source": [
        "netflix_df.shape"
      ],
      "execution_count": null,
      "outputs": [
        {
          "output_type": "execute_result",
          "data": {
            "text/plain": [
              "(7787, 12)"
            ]
          },
          "metadata": {},
          "execution_count": 60
        }
      ]
    },
    {
      "cell_type": "code",
      "metadata": {
        "colab": {
          "base_uri": "https://localhost:8080/"
        },
        "id": "DsQbZWeMfoOy",
        "outputId": "4734654a-7f96-4b78-ee65-cc51826f36e2"
      },
      "source": [
        "netflix_df.info()"
      ],
      "execution_count": null,
      "outputs": [
        {
          "output_type": "stream",
          "name": "stdout",
          "text": [
            "<class 'pandas.core.frame.DataFrame'>\n",
            "RangeIndex: 7787 entries, 0 to 7786\n",
            "Data columns (total 12 columns):\n",
            " #   Column        Non-Null Count  Dtype \n",
            "---  ------        --------------  ----- \n",
            " 0   show_id       7787 non-null   object\n",
            " 1   type          7787 non-null   object\n",
            " 2   title         7787 non-null   object\n",
            " 3   director      5398 non-null   object\n",
            " 4   cast          7069 non-null   object\n",
            " 5   country       7280 non-null   object\n",
            " 6   date_added    7777 non-null   object\n",
            " 7   release_year  7787 non-null   int64 \n",
            " 8   rating        7780 non-null   object\n",
            " 9   duration      7787 non-null   object\n",
            " 10  listed_in     7787 non-null   object\n",
            " 11  description   7787 non-null   object\n",
            "dtypes: int64(1), object(11)\n",
            "memory usage: 730.2+ KB\n"
          ]
        }
      ]
    },
    {
      "cell_type": "code",
      "metadata": {
        "colab": {
          "base_uri": "https://localhost:8080/"
        },
        "id": "Qx8_XEBkf8pc",
        "outputId": "23a78964-b826-4907-83af-b4b93d418393"
      },
      "source": [
        "netflix_df.isnull().sum()"
      ],
      "execution_count": null,
      "outputs": [
        {
          "output_type": "execute_result",
          "data": {
            "text/plain": [
              "show_id            0\n",
              "type               0\n",
              "title              0\n",
              "director        2389\n",
              "cast             718\n",
              "country          507\n",
              "date_added        10\n",
              "release_year       0\n",
              "rating             7\n",
              "duration           0\n",
              "listed_in          0\n",
              "description        0\n",
              "dtype: int64"
            ]
          },
          "metadata": {},
          "execution_count": 62
        }
      ]
    },
    {
      "cell_type": "code",
      "metadata": {
        "colab": {
          "base_uri": "https://localhost:8080/"
        },
        "id": "LZHwffsNQmBg",
        "outputId": "c2d2a0d6-67a4-4e56-b760-f01891339a1c"
      },
      "source": [
        "# iterating the columns\n",
        "for col in netflix_df.columns:\n",
        "    print(col)"
      ],
      "execution_count": null,
      "outputs": [
        {
          "output_type": "stream",
          "name": "stdout",
          "text": [
            "show_id\n",
            "type\n",
            "title\n",
            "director\n",
            "cast\n",
            "country\n",
            "date_added\n",
            "release_year\n",
            "rating\n",
            "duration\n",
            "listed_in\n",
            "description\n"
          ]
        }
      ]
    },
    {
      "cell_type": "code",
      "metadata": {
        "id": "5Y24qPZTftBh",
        "colab": {
          "base_uri": "https://localhost:8080/",
          "height": 293
        },
        "outputId": "fa83ca73-0a61-475f-af0f-789d9e3d47d1"
      },
      "source": [
        "netflix_df.director.fillna(\"No Director\")\n",
        "netflix_df.cast.fillna(\"No Cast\")\n",
        "netflix_df.country.fillna(\"Country Unavailable\")\n",
        "netflix_df.dropna(subset=[\"date_added\", \"rating\"])\n",
        "netflix_df.head()"
      ],
      "execution_count": null,
      "outputs": [
        {
          "output_type": "execute_result",
          "data": {
            "text/html": [
              "<div>\n",
              "<style scoped>\n",
              "    .dataframe tbody tr th:only-of-type {\n",
              "        vertical-align: middle;\n",
              "    }\n",
              "\n",
              "    .dataframe tbody tr th {\n",
              "        vertical-align: top;\n",
              "    }\n",
              "\n",
              "    .dataframe thead th {\n",
              "        text-align: right;\n",
              "    }\n",
              "</style>\n",
              "<table border=\"1\" class=\"dataframe\">\n",
              "  <thead>\n",
              "    <tr style=\"text-align: right;\">\n",
              "      <th></th>\n",
              "      <th>show_id</th>\n",
              "      <th>type</th>\n",
              "      <th>title</th>\n",
              "      <th>director</th>\n",
              "      <th>cast</th>\n",
              "      <th>country</th>\n",
              "      <th>date_added</th>\n",
              "      <th>release_year</th>\n",
              "      <th>rating</th>\n",
              "      <th>duration</th>\n",
              "      <th>listed_in</th>\n",
              "      <th>description</th>\n",
              "    </tr>\n",
              "  </thead>\n",
              "  <tbody>\n",
              "    <tr>\n",
              "      <th>0</th>\n",
              "      <td>s1</td>\n",
              "      <td>TV Show</td>\n",
              "      <td>3%</td>\n",
              "      <td>NaN</td>\n",
              "      <td>João Miguel, Bianca Comparato, Michel Gomes, R...</td>\n",
              "      <td>Brazil</td>\n",
              "      <td>August 14, 2020</td>\n",
              "      <td>2020</td>\n",
              "      <td>TV-MA</td>\n",
              "      <td>4 Seasons</td>\n",
              "      <td>International TV Shows, TV Dramas, TV Sci-Fi &amp;...</td>\n",
              "      <td>In a future where the elite inhabit an island ...</td>\n",
              "    </tr>\n",
              "    <tr>\n",
              "      <th>1</th>\n",
              "      <td>s2</td>\n",
              "      <td>Movie</td>\n",
              "      <td>7:19</td>\n",
              "      <td>Jorge Michel Grau</td>\n",
              "      <td>Demián Bichir, Héctor Bonilla, Oscar Serrano, ...</td>\n",
              "      <td>Mexico</td>\n",
              "      <td>December 23, 2016</td>\n",
              "      <td>2016</td>\n",
              "      <td>TV-MA</td>\n",
              "      <td>93 min</td>\n",
              "      <td>Dramas, International Movies</td>\n",
              "      <td>After a devastating earthquake hits Mexico Cit...</td>\n",
              "    </tr>\n",
              "    <tr>\n",
              "      <th>2</th>\n",
              "      <td>s3</td>\n",
              "      <td>Movie</td>\n",
              "      <td>23:59</td>\n",
              "      <td>Gilbert Chan</td>\n",
              "      <td>Tedd Chan, Stella Chung, Henley Hii, Lawrence ...</td>\n",
              "      <td>Singapore</td>\n",
              "      <td>December 20, 2018</td>\n",
              "      <td>2011</td>\n",
              "      <td>R</td>\n",
              "      <td>78 min</td>\n",
              "      <td>Horror Movies, International Movies</td>\n",
              "      <td>When an army recruit is found dead, his fellow...</td>\n",
              "    </tr>\n",
              "    <tr>\n",
              "      <th>3</th>\n",
              "      <td>s4</td>\n",
              "      <td>Movie</td>\n",
              "      <td>9</td>\n",
              "      <td>Shane Acker</td>\n",
              "      <td>Elijah Wood, John C. Reilly, Jennifer Connelly...</td>\n",
              "      <td>United States</td>\n",
              "      <td>November 16, 2017</td>\n",
              "      <td>2009</td>\n",
              "      <td>PG-13</td>\n",
              "      <td>80 min</td>\n",
              "      <td>Action &amp; Adventure, Independent Movies, Sci-Fi...</td>\n",
              "      <td>In a postapocalyptic world, rag-doll robots hi...</td>\n",
              "    </tr>\n",
              "    <tr>\n",
              "      <th>4</th>\n",
              "      <td>s5</td>\n",
              "      <td>Movie</td>\n",
              "      <td>21</td>\n",
              "      <td>Robert Luketic</td>\n",
              "      <td>Jim Sturgess, Kevin Spacey, Kate Bosworth, Aar...</td>\n",
              "      <td>United States</td>\n",
              "      <td>January 1, 2020</td>\n",
              "      <td>2008</td>\n",
              "      <td>PG-13</td>\n",
              "      <td>123 min</td>\n",
              "      <td>Dramas</td>\n",
              "      <td>A brilliant group of students become card-coun...</td>\n",
              "    </tr>\n",
              "  </tbody>\n",
              "</table>\n",
              "</div>"
            ],
            "text/plain": [
              "  show_id  ...                                        description\n",
              "0      s1  ...  In a future where the elite inhabit an island ...\n",
              "1      s2  ...  After a devastating earthquake hits Mexico Cit...\n",
              "2      s3  ...  When an army recruit is found dead, his fellow...\n",
              "3      s4  ...  In a postapocalyptic world, rag-doll robots hi...\n",
              "4      s5  ...  A brilliant group of students become card-coun...\n",
              "\n",
              "[5 rows x 12 columns]"
            ]
          },
          "metadata": {},
          "execution_count": 64
        }
      ]
    },
    {
      "cell_type": "code",
      "metadata": {
        "colab": {
          "base_uri": "https://localhost:8080/"
        },
        "id": "Ed9Nosj8DDZr",
        "outputId": "9a0b42c5-a080-4628-ed38-246675d018ae"
      },
      "source": [
        "netflix_df.info()"
      ],
      "execution_count": null,
      "outputs": [
        {
          "output_type": "stream",
          "name": "stdout",
          "text": [
            "<class 'pandas.core.frame.DataFrame'>\n",
            "RangeIndex: 7787 entries, 0 to 7786\n",
            "Data columns (total 12 columns):\n",
            " #   Column        Non-Null Count  Dtype \n",
            "---  ------        --------------  ----- \n",
            " 0   show_id       7787 non-null   object\n",
            " 1   type          7787 non-null   object\n",
            " 2   title         7787 non-null   object\n",
            " 3   director      5398 non-null   object\n",
            " 4   cast          7069 non-null   object\n",
            " 5   country       7280 non-null   object\n",
            " 6   date_added    7777 non-null   object\n",
            " 7   release_year  7787 non-null   int64 \n",
            " 8   rating        7780 non-null   object\n",
            " 9   duration      7787 non-null   object\n",
            " 10  listed_in     7787 non-null   object\n",
            " 11  description   7787 non-null   object\n",
            "dtypes: int64(1), object(11)\n",
            "memory usage: 730.2+ KB\n"
          ]
        }
      ]
    },
    {
      "cell_type": "markdown",
      "metadata": {
        "id": "sD_1Ba6bDZZJ"
      },
      "source": [
        " Since “director,” “cast,” and “country” contain the majority of null values, we chose to treat each missing value is unavailable. The other two label “date_added” and “rating” contain an insignificant portion of the data, so it drops from the datase"
      ]
    },
    {
      "cell_type": "code",
      "metadata": {
        "colab": {
          "base_uri": "https://localhost:8080/",
          "height": 293
        },
        "id": "TiACmqIAgCxJ",
        "outputId": "fbdd5555-6a80-4d42-b2bb-045dcf5f614e"
      },
      "source": [
        "# into a proper date-time format\n",
        "\n",
        "netflix_df[\"date_added\"] = pd.to_datetime(netflix_df['date_added'])\n",
        "netflix_df.head()"
      ],
      "execution_count": null,
      "outputs": [
        {
          "output_type": "display_data",
          "data": {
            "application/javascript": [
              "\n",
              "        if (window._pyforest_update_imports_cell) { window._pyforest_update_imports_cell('import plotly.express as px\\nimport pydot\\nfrom sklearn.feature_extraction.text import CountVectorizer\\nimport seaborn as sns\\nfrom sklearn.model_selection import cross_val_score\\nfrom sklearn.linear_model import LassoCV\\nimport pickle\\nimport plotly as py\\nfrom sklearn.linear_model import LinearRegression\\nfrom sklearn.ensemble import GradientBoostingRegressor\\nfrom statsmodels.tsa.arima_model import ARIMA\\nimport altair as alt\\nimport bokeh\\nfrom sklearn.ensemble import GradientBoostingClassifier\\nfrom sklearn.model_selection import GridSearchCV\\nfrom sklearn.preprocessing import LabelEncoder\\nfrom sklearn.linear_model import Lasso\\nimport pandas as pd\\nimport matplotlib.pyplot as plt\\nimport cv2\\nfrom sklearn.linear_model import LogisticRegression'); }\n",
              "    "
            ],
            "text/plain": [
              "<IPython.core.display.Javascript object>"
            ]
          },
          "metadata": {}
        },
        {
          "output_type": "execute_result",
          "data": {
            "text/html": [
              "<div>\n",
              "<style scoped>\n",
              "    .dataframe tbody tr th:only-of-type {\n",
              "        vertical-align: middle;\n",
              "    }\n",
              "\n",
              "    .dataframe tbody tr th {\n",
              "        vertical-align: top;\n",
              "    }\n",
              "\n",
              "    .dataframe thead th {\n",
              "        text-align: right;\n",
              "    }\n",
              "</style>\n",
              "<table border=\"1\" class=\"dataframe\">\n",
              "  <thead>\n",
              "    <tr style=\"text-align: right;\">\n",
              "      <th></th>\n",
              "      <th>show_id</th>\n",
              "      <th>type</th>\n",
              "      <th>title</th>\n",
              "      <th>director</th>\n",
              "      <th>cast</th>\n",
              "      <th>country</th>\n",
              "      <th>date_added</th>\n",
              "      <th>release_year</th>\n",
              "      <th>rating</th>\n",
              "      <th>duration</th>\n",
              "      <th>listed_in</th>\n",
              "      <th>description</th>\n",
              "    </tr>\n",
              "  </thead>\n",
              "  <tbody>\n",
              "    <tr>\n",
              "      <th>0</th>\n",
              "      <td>s1</td>\n",
              "      <td>TV Show</td>\n",
              "      <td>3%</td>\n",
              "      <td>NaN</td>\n",
              "      <td>João Miguel, Bianca Comparato, Michel Gomes, R...</td>\n",
              "      <td>Brazil</td>\n",
              "      <td>2020-08-14</td>\n",
              "      <td>2020</td>\n",
              "      <td>TV-MA</td>\n",
              "      <td>4 Seasons</td>\n",
              "      <td>International TV Shows, TV Dramas, TV Sci-Fi &amp;...</td>\n",
              "      <td>In a future where the elite inhabit an island ...</td>\n",
              "    </tr>\n",
              "    <tr>\n",
              "      <th>1</th>\n",
              "      <td>s2</td>\n",
              "      <td>Movie</td>\n",
              "      <td>7:19</td>\n",
              "      <td>Jorge Michel Grau</td>\n",
              "      <td>Demián Bichir, Héctor Bonilla, Oscar Serrano, ...</td>\n",
              "      <td>Mexico</td>\n",
              "      <td>2016-12-23</td>\n",
              "      <td>2016</td>\n",
              "      <td>TV-MA</td>\n",
              "      <td>93 min</td>\n",
              "      <td>Dramas, International Movies</td>\n",
              "      <td>After a devastating earthquake hits Mexico Cit...</td>\n",
              "    </tr>\n",
              "    <tr>\n",
              "      <th>2</th>\n",
              "      <td>s3</td>\n",
              "      <td>Movie</td>\n",
              "      <td>23:59</td>\n",
              "      <td>Gilbert Chan</td>\n",
              "      <td>Tedd Chan, Stella Chung, Henley Hii, Lawrence ...</td>\n",
              "      <td>Singapore</td>\n",
              "      <td>2018-12-20</td>\n",
              "      <td>2011</td>\n",
              "      <td>R</td>\n",
              "      <td>78 min</td>\n",
              "      <td>Horror Movies, International Movies</td>\n",
              "      <td>When an army recruit is found dead, his fellow...</td>\n",
              "    </tr>\n",
              "    <tr>\n",
              "      <th>3</th>\n",
              "      <td>s4</td>\n",
              "      <td>Movie</td>\n",
              "      <td>9</td>\n",
              "      <td>Shane Acker</td>\n",
              "      <td>Elijah Wood, John C. Reilly, Jennifer Connelly...</td>\n",
              "      <td>United States</td>\n",
              "      <td>2017-11-16</td>\n",
              "      <td>2009</td>\n",
              "      <td>PG-13</td>\n",
              "      <td>80 min</td>\n",
              "      <td>Action &amp; Adventure, Independent Movies, Sci-Fi...</td>\n",
              "      <td>In a postapocalyptic world, rag-doll robots hi...</td>\n",
              "    </tr>\n",
              "    <tr>\n",
              "      <th>4</th>\n",
              "      <td>s5</td>\n",
              "      <td>Movie</td>\n",
              "      <td>21</td>\n",
              "      <td>Robert Luketic</td>\n",
              "      <td>Jim Sturgess, Kevin Spacey, Kate Bosworth, Aar...</td>\n",
              "      <td>United States</td>\n",
              "      <td>2020-01-01</td>\n",
              "      <td>2008</td>\n",
              "      <td>PG-13</td>\n",
              "      <td>123 min</td>\n",
              "      <td>Dramas</td>\n",
              "      <td>A brilliant group of students become card-coun...</td>\n",
              "    </tr>\n",
              "  </tbody>\n",
              "</table>\n",
              "</div>"
            ],
            "text/plain": [
              "  show_id  ...                                        description\n",
              "0      s1  ...  In a future where the elite inhabit an island ...\n",
              "1      s2  ...  After a devastating earthquake hits Mexico Cit...\n",
              "2      s3  ...  When an army recruit is found dead, his fellow...\n",
              "3      s4  ...  In a postapocalyptic world, rag-doll robots hi...\n",
              "4      s5  ...  A brilliant group of students become card-coun...\n",
              "\n",
              "[5 rows x 12 columns]"
            ]
          },
          "metadata": {},
          "execution_count": 66
        }
      ]
    },
    {
      "cell_type": "code",
      "metadata": {
        "colab": {
          "base_uri": "https://localhost:8080/",
          "height": 293
        },
        "id": "r3HoJl97geeP",
        "outputId": "2deb6e19-ed99-486b-cbbc-c751f2ed9e88"
      },
      "source": [
        "#Adding one more feature\n",
        "netflix_df['month_added'] = netflix_df['date_added'].dt.month\n",
        "netflix_df.head()\n"
      ],
      "execution_count": null,
      "outputs": [
        {
          "output_type": "execute_result",
          "data": {
            "text/html": [
              "<div>\n",
              "<style scoped>\n",
              "    .dataframe tbody tr th:only-of-type {\n",
              "        vertical-align: middle;\n",
              "    }\n",
              "\n",
              "    .dataframe tbody tr th {\n",
              "        vertical-align: top;\n",
              "    }\n",
              "\n",
              "    .dataframe thead th {\n",
              "        text-align: right;\n",
              "    }\n",
              "</style>\n",
              "<table border=\"1\" class=\"dataframe\">\n",
              "  <thead>\n",
              "    <tr style=\"text-align: right;\">\n",
              "      <th></th>\n",
              "      <th>show_id</th>\n",
              "      <th>type</th>\n",
              "      <th>title</th>\n",
              "      <th>director</th>\n",
              "      <th>cast</th>\n",
              "      <th>country</th>\n",
              "      <th>date_added</th>\n",
              "      <th>release_year</th>\n",
              "      <th>rating</th>\n",
              "      <th>duration</th>\n",
              "      <th>listed_in</th>\n",
              "      <th>description</th>\n",
              "      <th>month_added</th>\n",
              "    </tr>\n",
              "  </thead>\n",
              "  <tbody>\n",
              "    <tr>\n",
              "      <th>0</th>\n",
              "      <td>s1</td>\n",
              "      <td>TV Show</td>\n",
              "      <td>3%</td>\n",
              "      <td>NaN</td>\n",
              "      <td>João Miguel, Bianca Comparato, Michel Gomes, R...</td>\n",
              "      <td>Brazil</td>\n",
              "      <td>2020-08-14</td>\n",
              "      <td>2020</td>\n",
              "      <td>TV-MA</td>\n",
              "      <td>4 Seasons</td>\n",
              "      <td>International TV Shows, TV Dramas, TV Sci-Fi &amp;...</td>\n",
              "      <td>In a future where the elite inhabit an island ...</td>\n",
              "      <td>8.0</td>\n",
              "    </tr>\n",
              "    <tr>\n",
              "      <th>1</th>\n",
              "      <td>s2</td>\n",
              "      <td>Movie</td>\n",
              "      <td>7:19</td>\n",
              "      <td>Jorge Michel Grau</td>\n",
              "      <td>Demián Bichir, Héctor Bonilla, Oscar Serrano, ...</td>\n",
              "      <td>Mexico</td>\n",
              "      <td>2016-12-23</td>\n",
              "      <td>2016</td>\n",
              "      <td>TV-MA</td>\n",
              "      <td>93 min</td>\n",
              "      <td>Dramas, International Movies</td>\n",
              "      <td>After a devastating earthquake hits Mexico Cit...</td>\n",
              "      <td>12.0</td>\n",
              "    </tr>\n",
              "    <tr>\n",
              "      <th>2</th>\n",
              "      <td>s3</td>\n",
              "      <td>Movie</td>\n",
              "      <td>23:59</td>\n",
              "      <td>Gilbert Chan</td>\n",
              "      <td>Tedd Chan, Stella Chung, Henley Hii, Lawrence ...</td>\n",
              "      <td>Singapore</td>\n",
              "      <td>2018-12-20</td>\n",
              "      <td>2011</td>\n",
              "      <td>R</td>\n",
              "      <td>78 min</td>\n",
              "      <td>Horror Movies, International Movies</td>\n",
              "      <td>When an army recruit is found dead, his fellow...</td>\n",
              "      <td>12.0</td>\n",
              "    </tr>\n",
              "    <tr>\n",
              "      <th>3</th>\n",
              "      <td>s4</td>\n",
              "      <td>Movie</td>\n",
              "      <td>9</td>\n",
              "      <td>Shane Acker</td>\n",
              "      <td>Elijah Wood, John C. Reilly, Jennifer Connelly...</td>\n",
              "      <td>United States</td>\n",
              "      <td>2017-11-16</td>\n",
              "      <td>2009</td>\n",
              "      <td>PG-13</td>\n",
              "      <td>80 min</td>\n",
              "      <td>Action &amp; Adventure, Independent Movies, Sci-Fi...</td>\n",
              "      <td>In a postapocalyptic world, rag-doll robots hi...</td>\n",
              "      <td>11.0</td>\n",
              "    </tr>\n",
              "    <tr>\n",
              "      <th>4</th>\n",
              "      <td>s5</td>\n",
              "      <td>Movie</td>\n",
              "      <td>21</td>\n",
              "      <td>Robert Luketic</td>\n",
              "      <td>Jim Sturgess, Kevin Spacey, Kate Bosworth, Aar...</td>\n",
              "      <td>United States</td>\n",
              "      <td>2020-01-01</td>\n",
              "      <td>2008</td>\n",
              "      <td>PG-13</td>\n",
              "      <td>123 min</td>\n",
              "      <td>Dramas</td>\n",
              "      <td>A brilliant group of students become card-coun...</td>\n",
              "      <td>1.0</td>\n",
              "    </tr>\n",
              "  </tbody>\n",
              "</table>\n",
              "</div>"
            ],
            "text/plain": [
              "  show_id  ... month_added\n",
              "0      s1  ...         8.0\n",
              "1      s2  ...        12.0\n",
              "2      s3  ...        12.0\n",
              "3      s4  ...        11.0\n",
              "4      s5  ...         1.0\n",
              "\n",
              "[5 rows x 13 columns]"
            ]
          },
          "metadata": {},
          "execution_count": 67
        }
      ]
    },
    {
      "cell_type": "code",
      "metadata": {
        "id": "F-AAlM1ahbcl",
        "colab": {
          "base_uri": "https://localhost:8080/",
          "height": 293
        },
        "outputId": "9bf6833b-af75-4134-9b1f-13eb8972665c"
      },
      "source": [
        "#Renaming the ‘listed_in’ feature to the genre for easy use\n",
        "netflix_df = netflix_df.rename(columns={\"listed_in\":\"genre\"})\n",
        "netflix_df['genre'] =netflix_df['genre'].apply(lambda x: x.split(\",\")[0])\n",
        "netflix_df.head()"
      ],
      "execution_count": null,
      "outputs": [
        {
          "output_type": "execute_result",
          "data": {
            "text/html": [
              "<div>\n",
              "<style scoped>\n",
              "    .dataframe tbody tr th:only-of-type {\n",
              "        vertical-align: middle;\n",
              "    }\n",
              "\n",
              "    .dataframe tbody tr th {\n",
              "        vertical-align: top;\n",
              "    }\n",
              "\n",
              "    .dataframe thead th {\n",
              "        text-align: right;\n",
              "    }\n",
              "</style>\n",
              "<table border=\"1\" class=\"dataframe\">\n",
              "  <thead>\n",
              "    <tr style=\"text-align: right;\">\n",
              "      <th></th>\n",
              "      <th>show_id</th>\n",
              "      <th>type</th>\n",
              "      <th>title</th>\n",
              "      <th>director</th>\n",
              "      <th>cast</th>\n",
              "      <th>country</th>\n",
              "      <th>date_added</th>\n",
              "      <th>release_year</th>\n",
              "      <th>rating</th>\n",
              "      <th>duration</th>\n",
              "      <th>genre</th>\n",
              "      <th>description</th>\n",
              "      <th>month_added</th>\n",
              "    </tr>\n",
              "  </thead>\n",
              "  <tbody>\n",
              "    <tr>\n",
              "      <th>0</th>\n",
              "      <td>s1</td>\n",
              "      <td>TV Show</td>\n",
              "      <td>3%</td>\n",
              "      <td>NaN</td>\n",
              "      <td>João Miguel, Bianca Comparato, Michel Gomes, R...</td>\n",
              "      <td>Brazil</td>\n",
              "      <td>2020-08-14</td>\n",
              "      <td>2020</td>\n",
              "      <td>TV-MA</td>\n",
              "      <td>4 Seasons</td>\n",
              "      <td>International TV Shows</td>\n",
              "      <td>In a future where the elite inhabit an island ...</td>\n",
              "      <td>8.0</td>\n",
              "    </tr>\n",
              "    <tr>\n",
              "      <th>1</th>\n",
              "      <td>s2</td>\n",
              "      <td>Movie</td>\n",
              "      <td>7:19</td>\n",
              "      <td>Jorge Michel Grau</td>\n",
              "      <td>Demián Bichir, Héctor Bonilla, Oscar Serrano, ...</td>\n",
              "      <td>Mexico</td>\n",
              "      <td>2016-12-23</td>\n",
              "      <td>2016</td>\n",
              "      <td>TV-MA</td>\n",
              "      <td>93 min</td>\n",
              "      <td>Dramas</td>\n",
              "      <td>After a devastating earthquake hits Mexico Cit...</td>\n",
              "      <td>12.0</td>\n",
              "    </tr>\n",
              "    <tr>\n",
              "      <th>2</th>\n",
              "      <td>s3</td>\n",
              "      <td>Movie</td>\n",
              "      <td>23:59</td>\n",
              "      <td>Gilbert Chan</td>\n",
              "      <td>Tedd Chan, Stella Chung, Henley Hii, Lawrence ...</td>\n",
              "      <td>Singapore</td>\n",
              "      <td>2018-12-20</td>\n",
              "      <td>2011</td>\n",
              "      <td>R</td>\n",
              "      <td>78 min</td>\n",
              "      <td>Horror Movies</td>\n",
              "      <td>When an army recruit is found dead, his fellow...</td>\n",
              "      <td>12.0</td>\n",
              "    </tr>\n",
              "    <tr>\n",
              "      <th>3</th>\n",
              "      <td>s4</td>\n",
              "      <td>Movie</td>\n",
              "      <td>9</td>\n",
              "      <td>Shane Acker</td>\n",
              "      <td>Elijah Wood, John C. Reilly, Jennifer Connelly...</td>\n",
              "      <td>United States</td>\n",
              "      <td>2017-11-16</td>\n",
              "      <td>2009</td>\n",
              "      <td>PG-13</td>\n",
              "      <td>80 min</td>\n",
              "      <td>Action &amp; Adventure</td>\n",
              "      <td>In a postapocalyptic world, rag-doll robots hi...</td>\n",
              "      <td>11.0</td>\n",
              "    </tr>\n",
              "    <tr>\n",
              "      <th>4</th>\n",
              "      <td>s5</td>\n",
              "      <td>Movie</td>\n",
              "      <td>21</td>\n",
              "      <td>Robert Luketic</td>\n",
              "      <td>Jim Sturgess, Kevin Spacey, Kate Bosworth, Aar...</td>\n",
              "      <td>United States</td>\n",
              "      <td>2020-01-01</td>\n",
              "      <td>2008</td>\n",
              "      <td>PG-13</td>\n",
              "      <td>123 min</td>\n",
              "      <td>Dramas</td>\n",
              "      <td>A brilliant group of students become card-coun...</td>\n",
              "      <td>1.0</td>\n",
              "    </tr>\n",
              "  </tbody>\n",
              "</table>\n",
              "</div>"
            ],
            "text/plain": [
              "  show_id  ... month_added\n",
              "0      s1  ...         8.0\n",
              "1      s2  ...        12.0\n",
              "2      s3  ...        12.0\n",
              "3      s4  ...        11.0\n",
              "4      s5  ...         1.0\n",
              "\n",
              "[5 rows x 13 columns]"
            ]
          },
          "metadata": {},
          "execution_count": 68
        }
      ]
    },
    {
      "cell_type": "markdown",
      "metadata": {
        "id": "NENtr1gUEcof"
      },
      "source": [
        "#Exploratory Analysis and Visualization"
      ]
    },
    {
      "cell_type": "code",
      "metadata": {
        "colab": {
          "base_uri": "https://localhost:8080/",
          "height": 372
        },
        "id": "C2YDbi98E1a0",
        "outputId": "c57f38d6-11ae-449c-cec1-d49b264905a5"
      },
      "source": [
        "#compareing the total number of movies and shows in this dataset to know which one is the majority.\n",
        "plt.figure(figsize=(12,6))\n",
        "\n",
        "plt.title(\"Percentation of Netflix Titles that are either Movies or TV Shows\")\n",
        "\n",
        "g = plt.pie(netflix_df.type.value_counts(),explode=(0.025,0.025), labels=netflix_df.type.value_counts().index, colors=['red','black'],autopct='%1.1f%%', startangle=180)\n",
        "\n",
        "plt.show()"
      ],
      "execution_count": null,
      "outputs": [
        {
          "output_type": "display_data",
          "data": {
            "application/javascript": [
              "\n",
              "        if (window._pyforest_update_imports_cell) { window._pyforest_update_imports_cell('import plotly.express as px\\nimport pydot\\nfrom sklearn.feature_extraction.text import CountVectorizer\\nimport seaborn as sns\\nfrom sklearn.model_selection import cross_val_score\\nfrom sklearn.linear_model import LassoCV\\nimport pickle\\nimport plotly as py\\nfrom sklearn.linear_model import LinearRegression\\nfrom sklearn.ensemble import GradientBoostingRegressor\\nfrom statsmodels.tsa.arima_model import ARIMA\\nimport altair as alt\\nimport bokeh\\nfrom sklearn.ensemble import GradientBoostingClassifier\\nfrom sklearn.model_selection import GridSearchCV\\nfrom sklearn.preprocessing import LabelEncoder\\nfrom sklearn.linear_model import Lasso\\nimport pandas as pd\\nimport matplotlib.pyplot as plt\\nimport cv2\\nfrom sklearn.linear_model import LogisticRegression'); }\n",
              "    "
            ],
            "text/plain": [
              "<IPython.core.display.Javascript object>"
            ]
          },
          "metadata": {}
        },
        {
          "output_type": "display_data",
          "data": {
            "application/javascript": [
              "\n",
              "        if (window._pyforest_update_imports_cell) { window._pyforest_update_imports_cell('import plotly.express as px\\nimport pydot\\nfrom sklearn.feature_extraction.text import CountVectorizer\\nimport seaborn as sns\\nfrom sklearn.model_selection import cross_val_score\\nfrom sklearn.linear_model import LassoCV\\nimport pickle\\nimport plotly as py\\nfrom sklearn.linear_model import LinearRegression\\nfrom sklearn.ensemble import GradientBoostingRegressor\\nfrom statsmodels.tsa.arima_model import ARIMA\\nimport altair as alt\\nimport bokeh\\nfrom sklearn.ensemble import GradientBoostingClassifier\\nfrom sklearn.model_selection import GridSearchCV\\nfrom sklearn.preprocessing import LabelEncoder\\nfrom sklearn.linear_model import Lasso\\nimport pandas as pd\\nimport matplotlib.pyplot as plt\\nimport cv2\\nfrom sklearn.linear_model import LogisticRegression'); }\n",
              "    "
            ],
            "text/plain": [
              "<IPython.core.display.Javascript object>"
            ]
          },
          "metadata": {}
        },
        {
          "output_type": "display_data",
          "data": {
            "application/javascript": [
              "\n",
              "        if (window._pyforest_update_imports_cell) { window._pyforest_update_imports_cell('import plotly.express as px\\nimport pydot\\nfrom sklearn.feature_extraction.text import CountVectorizer\\nimport seaborn as sns\\nfrom sklearn.model_selection import cross_val_score\\nfrom sklearn.linear_model import LassoCV\\nimport pickle\\nimport plotly as py\\nfrom sklearn.linear_model import LinearRegression\\nfrom sklearn.ensemble import GradientBoostingRegressor\\nfrom statsmodels.tsa.arima_model import ARIMA\\nimport altair as alt\\nimport bokeh\\nfrom sklearn.ensemble import GradientBoostingClassifier\\nfrom sklearn.model_selection import GridSearchCV\\nfrom sklearn.preprocessing import LabelEncoder\\nfrom sklearn.linear_model import Lasso\\nimport pandas as pd\\nimport matplotlib.pyplot as plt\\nimport cv2\\nfrom sklearn.linear_model import LogisticRegression'); }\n",
              "    "
            ],
            "text/plain": [
              "<IPython.core.display.Javascript object>"
            ]
          },
          "metadata": {}
        },
        {
          "output_type": "display_data",
          "data": {
            "application/javascript": [
              "\n",
              "        if (window._pyforest_update_imports_cell) { window._pyforest_update_imports_cell('import plotly.express as px\\nimport pydot\\nfrom sklearn.feature_extraction.text import CountVectorizer\\nimport seaborn as sns\\nfrom sklearn.model_selection import cross_val_score\\nfrom sklearn.linear_model import LassoCV\\nimport pickle\\nimport plotly as py\\nfrom sklearn.linear_model import LinearRegression\\nfrom sklearn.ensemble import GradientBoostingRegressor\\nfrom statsmodels.tsa.arima_model import ARIMA\\nimport altair as alt\\nimport bokeh\\nfrom sklearn.ensemble import GradientBoostingClassifier\\nfrom sklearn.model_selection import GridSearchCV\\nfrom sklearn.preprocessing import LabelEncoder\\nfrom sklearn.linear_model import Lasso\\nimport pandas as pd\\nimport matplotlib.pyplot as plt\\nimport cv2\\nfrom sklearn.linear_model import LogisticRegression'); }\n",
              "    "
            ],
            "text/plain": [
              "<IPython.core.display.Javascript object>"
            ]
          },
          "metadata": {}
        },
        {
          "output_type": "display_data",
          "data": {
            "image/png": "[encoded data removed]",
            "text/plain": [
              "<Figure size 864x432 with 1 Axes>"
            ]
          },
          "metadata": {}
        }
      ]
    },
    {
      "cell_type": "markdown",
      "metadata": {
        "id": "3KUhost3IUri"
      },
      "source": [
        "There are  more movie titles (68,5%) than TVshows titles (31,5%) in terms of title."
      ]
    },
    {
      "cell_type": "code",
      "metadata": {
        "colab": {
          "base_uri": "https://localhost:8080/",
          "height": 457
        },
        "id": "QIhdg0lMJHCf",
        "outputId": "ca53991b-b3e5-45cc-bb9e-d4cc9c1ca7f8"
      },
      "source": [
        "countries = netflix_df.set_index('title').country\n",
        "countries = countries[countries != 'Country Unavailable']\n",
        "plt.figure(figsize=(13,7))\n",
        "g = sns.countplot(y = countries, order=countries.value_counts().index[:15])\n",
        "plt.title('Top 15 Countries Contributor on Netflix')\n",
        "plt.xlabel('Titles')\n",
        "plt.ylabel('Country')\n",
        "plt.show()"
      ],
      "execution_count": null,
      "outputs": [
        {
          "output_type": "display_data",
          "data": {
            "application/javascript": [
              "\n",
              "        if (window._pyforest_update_imports_cell) { window._pyforest_update_imports_cell('import plotly.express as px\\nimport pydot\\nfrom sklearn.feature_extraction.text import CountVectorizer\\nimport seaborn as sns\\nfrom sklearn.model_selection import cross_val_score\\nfrom sklearn.linear_model import LassoCV\\nimport pickle\\nimport plotly as py\\nfrom sklearn.linear_model import LinearRegression\\nfrom sklearn.ensemble import GradientBoostingRegressor\\nfrom statsmodels.tsa.arima_model import ARIMA\\nimport altair as alt\\nimport bokeh\\nfrom sklearn.ensemble import GradientBoostingClassifier\\nfrom sklearn.model_selection import GridSearchCV\\nfrom sklearn.preprocessing import LabelEncoder\\nfrom sklearn.linear_model import Lasso\\nimport pandas as pd\\nimport matplotlib.pyplot as plt\\nimport cv2\\nfrom sklearn.linear_model import LogisticRegression'); }\n",
              "    "
            ],
            "text/plain": [
              "<IPython.core.display.Javascript object>"
            ]
          },
          "metadata": {}
        },
        {
          "output_type": "display_data",
          "data": {
            "application/javascript": [
              "\n",
              "        if (window._pyforest_update_imports_cell) { window._pyforest_update_imports_cell('import plotly.express as px\\nimport pydot\\nfrom sklearn.feature_extraction.text import CountVectorizer\\nimport seaborn as sns\\nfrom sklearn.model_selection import cross_val_score\\nfrom sklearn.linear_model import LassoCV\\nimport pickle\\nimport plotly as py\\nfrom sklearn.linear_model import LinearRegression\\nfrom sklearn.ensemble import GradientBoostingRegressor\\nfrom statsmodels.tsa.arima_model import ARIMA\\nimport altair as alt\\nimport bokeh\\nfrom sklearn.ensemble import GradientBoostingClassifier\\nfrom sklearn.model_selection import GridSearchCV\\nfrom sklearn.preprocessing import LabelEncoder\\nfrom sklearn.linear_model import Lasso\\nimport pandas as pd\\nimport matplotlib.pyplot as plt\\nimport cv2\\nfrom sklearn.linear_model import LogisticRegression'); }\n",
              "    "
            ],
            "text/plain": [
              "<IPython.core.display.Javascript object>"
            ]
          },
          "metadata": {}
        },
        {
          "output_type": "display_data",
          "data": {
            "application/javascript": [
              "\n",
              "        if (window._pyforest_update_imports_cell) { window._pyforest_update_imports_cell('import plotly.express as px\\nimport pydot\\nfrom sklearn.feature_extraction.text import CountVectorizer\\nimport seaborn as sns\\nfrom sklearn.model_selection import cross_val_score\\nfrom sklearn.linear_model import LassoCV\\nimport pickle\\nimport plotly as py\\nfrom sklearn.linear_model import LinearRegression\\nfrom sklearn.ensemble import GradientBoostingRegressor\\nfrom statsmodels.tsa.arima_model import ARIMA\\nimport altair as alt\\nimport bokeh\\nfrom sklearn.ensemble import GradientBoostingClassifier\\nfrom sklearn.model_selection import GridSearchCV\\nfrom sklearn.preprocessing import LabelEncoder\\nfrom sklearn.linear_model import Lasso\\nimport pandas as pd\\nimport matplotlib.pyplot as plt\\nimport cv2\\nfrom sklearn.linear_model import LogisticRegression'); }\n",
              "    "
            ],
            "text/plain": [
              "<IPython.core.display.Javascript object>"
            ]
          },
          "metadata": {}
        },
        {
          "output_type": "display_data",
          "data": {
            "application/javascript": [
              "\n",
              "        if (window._pyforest_update_imports_cell) { window._pyforest_update_imports_cell('import plotly.express as px\\nimport pydot\\nfrom sklearn.feature_extraction.text import CountVectorizer\\nimport seaborn as sns\\nfrom sklearn.model_selection import cross_val_score\\nfrom sklearn.linear_model import LassoCV\\nimport pickle\\nimport plotly as py\\nfrom sklearn.linear_model import LinearRegression\\nfrom sklearn.ensemble import GradientBoostingRegressor\\nfrom statsmodels.tsa.arima_model import ARIMA\\nimport altair as alt\\nimport bokeh\\nfrom sklearn.ensemble import GradientBoostingClassifier\\nfrom sklearn.model_selection import GridSearchCV\\nfrom sklearn.preprocessing import LabelEncoder\\nfrom sklearn.linear_model import Lasso\\nimport pandas as pd\\nimport matplotlib.pyplot as plt\\nimport cv2\\nfrom sklearn.linear_model import LogisticRegression'); }\n",
              "    "
            ],
            "text/plain": [
              "<IPython.core.display.Javascript object>"
            ]
          },
          "metadata": {}
        },
        {
          "output_type": "display_data",
          "data": {
            "application/javascript": [
              "\n",
              "        if (window._pyforest_update_imports_cell) { window._pyforest_update_imports_cell('import plotly.express as px\\nimport pydot\\nfrom sklearn.feature_extraction.text import CountVectorizer\\nimport seaborn as sns\\nfrom sklearn.model_selection import cross_val_score\\nfrom sklearn.linear_model import LassoCV\\nimport pickle\\nimport plotly as py\\nfrom sklearn.linear_model import LinearRegression\\nfrom sklearn.ensemble import GradientBoostingRegressor\\nfrom statsmodels.tsa.arima_model import ARIMA\\nimport altair as alt\\nimport bokeh\\nfrom sklearn.ensemble import GradientBoostingClassifier\\nfrom sklearn.model_selection import GridSearchCV\\nfrom sklearn.preprocessing import LabelEncoder\\nfrom sklearn.linear_model import Lasso\\nimport pandas as pd\\nimport matplotlib.pyplot as plt\\nimport cv2\\nfrom sklearn.linear_model import LogisticRegression'); }\n",
              "    "
            ],
            "text/plain": [
              "<IPython.core.display.Javascript object>"
            ]
          },
          "metadata": {}
        },
        {
          "output_type": "display_data",
          "data": {
            "application/javascript": [
              "\n",
              "        if (window._pyforest_update_imports_cell) { window._pyforest_update_imports_cell('import plotly.express as px\\nimport pydot\\nfrom sklearn.feature_extraction.text import CountVectorizer\\nimport seaborn as sns\\nfrom sklearn.model_selection import cross_val_score\\nfrom sklearn.linear_model import LassoCV\\nimport pickle\\nimport plotly as py\\nfrom sklearn.linear_model import LinearRegression\\nfrom sklearn.ensemble import GradientBoostingRegressor\\nfrom statsmodels.tsa.arima_model import ARIMA\\nimport altair as alt\\nimport bokeh\\nfrom sklearn.ensemble import GradientBoostingClassifier\\nfrom sklearn.model_selection import GridSearchCV\\nfrom sklearn.preprocessing import LabelEncoder\\nfrom sklearn.linear_model import Lasso\\nimport pandas as pd\\nimport matplotlib.pyplot as plt\\nimport cv2\\nfrom sklearn.linear_model import LogisticRegression'); }\n",
              "    "
            ],
            "text/plain": [
              "<IPython.core.display.Javascript object>"
            ]
          },
          "metadata": {}
        },
        {
          "output_type": "display_data",
          "data": {
            "image/png": "[encoded data removed]",
            "text/plain": [
              "<Figure size 936x504 with 1 Axes>"
            ]
          },
          "metadata": {
            "needs_background": "light"
          }
        }
      ]
    },
    {
      "cell_type": "markdown",
      "metadata": {
        "id": "Y27EZL-nO7c-"
      },
      "source": [
        "From the images above, we can see the top 15 countries contributor to Netflix. The country by the amount of the produces content is the United States"
      ]
    },
    {
      "cell_type": "code",
      "metadata": {
        "colab": {
          "base_uri": "https://localhost:8080/",
          "height": 620
        },
        "id": "HLOJWMDUh3Ub",
        "outputId": "053a9b7c-eb05-4955-e658-61ca0b2eacd1"
      },
      "source": [
        "filtered_genres = netflix_df.set_index('title').genre\n",
        "plt.figure(figsize=(10,10))\n",
        "g = sns.countplot(y = filtered_genres, order=filtered_genres.value_counts().index[:20])\n",
        "plt.title('Top 20 Genres on Netflix')\n",
        "plt.xlabel('Titles')\n",
        "plt.ylabel('Genres')\n",
        "plt.show()"
      ],
      "execution_count": null,
      "outputs": [
        {
          "output_type": "display_data",
          "data": {
            "application/javascript": [
              "\n",
              "        if (window._pyforest_update_imports_cell) { window._pyforest_update_imports_cell('import plotly.express as px\\nimport pydot\\nfrom sklearn.feature_extraction.text import CountVectorizer\\nimport seaborn as sns\\nfrom sklearn.model_selection import cross_val_score\\nfrom sklearn.linear_model import LassoCV\\nimport pickle\\nimport plotly as py\\nfrom sklearn.linear_model import LinearRegression\\nfrom sklearn.ensemble import GradientBoostingRegressor\\nfrom statsmodels.tsa.arima_model import ARIMA\\nimport altair as alt\\nimport bokeh\\nfrom sklearn.ensemble import GradientBoostingClassifier\\nfrom sklearn.model_selection import GridSearchCV\\nfrom sklearn.preprocessing import LabelEncoder\\nfrom sklearn.linear_model import Lasso\\nimport pandas as pd\\nimport matplotlib.pyplot as plt\\nimport cv2\\nfrom sklearn.linear_model import LogisticRegression'); }\n",
              "    "
            ],
            "text/plain": [
              "<IPython.core.display.Javascript object>"
            ]
          },
          "metadata": {}
        },
        {
          "output_type": "display_data",
          "data": {
            "application/javascript": [
              "\n",
              "        if (window._pyforest_update_imports_cell) { window._pyforest_update_imports_cell('import plotly.express as px\\nimport pydot\\nfrom sklearn.feature_extraction.text import CountVectorizer\\nimport seaborn as sns\\nfrom sklearn.model_selection import cross_val_score\\nfrom sklearn.linear_model import LassoCV\\nimport pickle\\nimport plotly as py\\nfrom sklearn.linear_model import LinearRegression\\nfrom sklearn.ensemble import GradientBoostingRegressor\\nfrom statsmodels.tsa.arima_model import ARIMA\\nimport altair as alt\\nimport bokeh\\nfrom sklearn.ensemble import GradientBoostingClassifier\\nfrom sklearn.model_selection import GridSearchCV\\nfrom sklearn.preprocessing import LabelEncoder\\nfrom sklearn.linear_model import Lasso\\nimport pandas as pd\\nimport matplotlib.pyplot as plt\\nimport cv2\\nfrom sklearn.linear_model import LogisticRegression'); }\n",
              "    "
            ],
            "text/plain": [
              "<IPython.core.display.Javascript object>"
            ]
          },
          "metadata": {}
        },
        {
          "output_type": "display_data",
          "data": {
            "application/javascript": [
              "\n",
              "        if (window._pyforest_update_imports_cell) { window._pyforest_update_imports_cell('import plotly.express as px\\nimport pydot\\nfrom sklearn.feature_extraction.text import CountVectorizer\\nimport seaborn as sns\\nfrom sklearn.model_selection import cross_val_score\\nfrom sklearn.linear_model import LassoCV\\nimport pickle\\nimport plotly as py\\nfrom sklearn.linear_model import LinearRegression\\nfrom sklearn.ensemble import GradientBoostingRegressor\\nfrom statsmodels.tsa.arima_model import ARIMA\\nimport altair as alt\\nimport bokeh\\nfrom sklearn.ensemble import GradientBoostingClassifier\\nfrom sklearn.model_selection import GridSearchCV\\nfrom sklearn.preprocessing import LabelEncoder\\nfrom sklearn.linear_model import Lasso\\nimport pandas as pd\\nimport matplotlib.pyplot as plt\\nimport cv2\\nfrom sklearn.linear_model import LogisticRegression'); }\n",
              "    "
            ],
            "text/plain": [
              "<IPython.core.display.Javascript object>"
            ]
          },
          "metadata": {}
        },
        {
          "output_type": "display_data",
          "data": {
            "application/javascript": [
              "\n",
              "        if (window._pyforest_update_imports_cell) { window._pyforest_update_imports_cell('import plotly.express as px\\nimport pydot\\nfrom sklearn.feature_extraction.text import CountVectorizer\\nimport seaborn as sns\\nfrom sklearn.model_selection import cross_val_score\\nfrom sklearn.linear_model import LassoCV\\nimport pickle\\nimport plotly as py\\nfrom sklearn.linear_model import LinearRegression\\nfrom sklearn.ensemble import GradientBoostingRegressor\\nfrom statsmodels.tsa.arima_model import ARIMA\\nimport altair as alt\\nimport bokeh\\nfrom sklearn.ensemble import GradientBoostingClassifier\\nfrom sklearn.model_selection import GridSearchCV\\nfrom sklearn.preprocessing import LabelEncoder\\nfrom sklearn.linear_model import Lasso\\nimport pandas as pd\\nimport matplotlib.pyplot as plt\\nimport cv2\\nfrom sklearn.linear_model import LogisticRegression'); }\n",
              "    "
            ],
            "text/plain": [
              "<IPython.core.display.Javascript object>"
            ]
          },
          "metadata": {}
        },
        {
          "output_type": "display_data",
          "data": {
            "application/javascript": [
              "\n",
              "        if (window._pyforest_update_imports_cell) { window._pyforest_update_imports_cell('import plotly.express as px\\nimport pydot\\nfrom sklearn.feature_extraction.text import CountVectorizer\\nimport seaborn as sns\\nfrom sklearn.model_selection import cross_val_score\\nfrom sklearn.linear_model import LassoCV\\nimport pickle\\nimport plotly as py\\nfrom sklearn.linear_model import LinearRegression\\nfrom sklearn.ensemble import GradientBoostingRegressor\\nfrom statsmodels.tsa.arima_model import ARIMA\\nimport altair as alt\\nimport bokeh\\nfrom sklearn.ensemble import GradientBoostingClassifier\\nfrom sklearn.model_selection import GridSearchCV\\nfrom sklearn.preprocessing import LabelEncoder\\nfrom sklearn.linear_model import Lasso\\nimport pandas as pd\\nimport matplotlib.pyplot as plt\\nimport cv2\\nfrom sklearn.linear_model import LogisticRegression'); }\n",
              "    "
            ],
            "text/plain": [
              "<IPython.core.display.Javascript object>"
            ]
          },
          "metadata": {}
        },
        {
          "output_type": "display_data",
          "data": {
            "application/javascript": [
              "\n",
              "        if (window._pyforest_update_imports_cell) { window._pyforest_update_imports_cell('import plotly.express as px\\nimport pydot\\nfrom sklearn.feature_extraction.text import CountVectorizer\\nimport seaborn as sns\\nfrom sklearn.model_selection import cross_val_score\\nfrom sklearn.linear_model import LassoCV\\nimport pickle\\nimport plotly as py\\nfrom sklearn.linear_model import LinearRegression\\nfrom sklearn.ensemble import GradientBoostingRegressor\\nfrom statsmodels.tsa.arima_model import ARIMA\\nimport altair as alt\\nimport bokeh\\nfrom sklearn.ensemble import GradientBoostingClassifier\\nfrom sklearn.model_selection import GridSearchCV\\nfrom sklearn.preprocessing import LabelEncoder\\nfrom sklearn.linear_model import Lasso\\nimport pandas as pd\\nimport matplotlib.pyplot as plt\\nimport cv2\\nfrom sklearn.linear_model import LogisticRegression'); }\n",
              "    "
            ],
            "text/plain": [
              "<IPython.core.display.Javascript object>"
            ]
          },
          "metadata": {}
        },
        {
          "output_type": "display_data",
          "data": {
            "image/png": "[encoded data removed]",
            "text/plain": [
              "<Figure size 720x720 with 1 Axes>"
            ]
          },
          "metadata": {
            "needs_background": "light"
          }
        }
      ]
    },
    {
      "cell_type": "code",
      "metadata": {
        "colab": {
          "base_uri": "https://localhost:8080/",
          "height": 457
        },
        "id": "hSj2c3gqPT_U",
        "outputId": "8791529e-353e-4c4e-d9da-6827e88bc5e8"
      },
      "source": [
        "directors = netflix_df[netflix_df.director != 'No Director'].set_index('title').director\n",
        "plt.figure(figsize=(13,7))\n",
        "plt.title('Top 10 Director Based on The Number of Titles')\n",
        "sns.countplot(y = directors, order=directors.value_counts().index[:10], palette='Blues')\n",
        "plt.show()"
      ],
      "execution_count": null,
      "outputs": [
        {
          "output_type": "display_data",
          "data": {
            "application/javascript": [
              "\n",
              "        if (window._pyforest_update_imports_cell) { window._pyforest_update_imports_cell('import plotly.express as px\\nimport pydot\\nfrom sklearn.feature_extraction.text import CountVectorizer\\nimport seaborn as sns\\nfrom sklearn.model_selection import cross_val_score\\nfrom sklearn.linear_model import LassoCV\\nimport pickle\\nimport plotly as py\\nfrom sklearn.linear_model import LinearRegression\\nfrom sklearn.ensemble import GradientBoostingRegressor\\nfrom statsmodels.tsa.arima_model import ARIMA\\nimport altair as alt\\nimport bokeh\\nfrom sklearn.ensemble import GradientBoostingClassifier\\nfrom sklearn.model_selection import GridSearchCV\\nfrom sklearn.preprocessing import LabelEncoder\\nfrom sklearn.linear_model import Lasso\\nimport pandas as pd\\nimport matplotlib.pyplot as plt\\nimport cv2\\nfrom sklearn.linear_model import LogisticRegression'); }\n",
              "    "
            ],
            "text/plain": [
              "<IPython.core.display.Javascript object>"
            ]
          },
          "metadata": {}
        },
        {
          "output_type": "display_data",
          "data": {
            "application/javascript": [
              "\n",
              "        if (window._pyforest_update_imports_cell) { window._pyforest_update_imports_cell('import plotly.express as px\\nimport pydot\\nfrom sklearn.feature_extraction.text import CountVectorizer\\nimport seaborn as sns\\nfrom sklearn.model_selection import cross_val_score\\nfrom sklearn.linear_model import LassoCV\\nimport pickle\\nimport plotly as py\\nfrom sklearn.linear_model import LinearRegression\\nfrom sklearn.ensemble import GradientBoostingRegressor\\nfrom statsmodels.tsa.arima_model import ARIMA\\nimport altair as alt\\nimport bokeh\\nfrom sklearn.ensemble import GradientBoostingClassifier\\nfrom sklearn.model_selection import GridSearchCV\\nfrom sklearn.preprocessing import LabelEncoder\\nfrom sklearn.linear_model import Lasso\\nimport pandas as pd\\nimport matplotlib.pyplot as plt\\nimport cv2\\nfrom sklearn.linear_model import LogisticRegression'); }\n",
              "    "
            ],
            "text/plain": [
              "<IPython.core.display.Javascript object>"
            ]
          },
          "metadata": {}
        },
        {
          "output_type": "display_data",
          "data": {
            "application/javascript": [
              "\n",
              "        if (window._pyforest_update_imports_cell) { window._pyforest_update_imports_cell('import plotly.express as px\\nimport pydot\\nfrom sklearn.feature_extraction.text import CountVectorizer\\nimport seaborn as sns\\nfrom sklearn.model_selection import cross_val_score\\nfrom sklearn.linear_model import LassoCV\\nimport pickle\\nimport plotly as py\\nfrom sklearn.linear_model import LinearRegression\\nfrom sklearn.ensemble import GradientBoostingRegressor\\nfrom statsmodels.tsa.arima_model import ARIMA\\nimport altair as alt\\nimport bokeh\\nfrom sklearn.ensemble import GradientBoostingClassifier\\nfrom sklearn.model_selection import GridSearchCV\\nfrom sklearn.preprocessing import LabelEncoder\\nfrom sklearn.linear_model import Lasso\\nimport pandas as pd\\nimport matplotlib.pyplot as plt\\nimport cv2\\nfrom sklearn.linear_model import LogisticRegression'); }\n",
              "    "
            ],
            "text/plain": [
              "<IPython.core.display.Javascript object>"
            ]
          },
          "metadata": {}
        },
        {
          "output_type": "display_data",
          "data": {
            "application/javascript": [
              "\n",
              "        if (window._pyforest_update_imports_cell) { window._pyforest_update_imports_cell('import plotly.express as px\\nimport pydot\\nfrom sklearn.feature_extraction.text import CountVectorizer\\nimport seaborn as sns\\nfrom sklearn.model_selection import cross_val_score\\nfrom sklearn.linear_model import LassoCV\\nimport pickle\\nimport plotly as py\\nfrom sklearn.linear_model import LinearRegression\\nfrom sklearn.ensemble import GradientBoostingRegressor\\nfrom statsmodels.tsa.arima_model import ARIMA\\nimport altair as alt\\nimport bokeh\\nfrom sklearn.ensemble import GradientBoostingClassifier\\nfrom sklearn.model_selection import GridSearchCV\\nfrom sklearn.preprocessing import LabelEncoder\\nfrom sklearn.linear_model import Lasso\\nimport pandas as pd\\nimport matplotlib.pyplot as plt\\nimport cv2\\nfrom sklearn.linear_model import LogisticRegression'); }\n",
              "    "
            ],
            "text/plain": [
              "<IPython.core.display.Javascript object>"
            ]
          },
          "metadata": {}
        },
        {
          "output_type": "display_data",
          "data": {
            "image/png": "[encoded data removed]",
            "text/plain": [
              "<Figure size 936x504 with 1 Axes>"
            ]
          },
          "metadata": {
            "needs_background": "light"
          }
        }
      ]
    },
    {
      "cell_type": "code",
      "metadata": {
        "colab": {
          "base_uri": "https://localhost:8080/",
          "height": 437
        },
        "id": "T5Pfr5I0SjvS",
        "outputId": "4e02b808-6f8a-4401-ae83-4609320ee216"
      },
      "source": [
        "plt.figure(figsize=(8,6))\n",
        "netflix_df['rating'].value_counts(normalize=True).plot.bar()\n",
        "plt.title('Distribution of rating categories')\n",
        "plt.xlabel('rating')\n",
        "plt.ylabel('relative frequency')\n",
        "plt.show()"
      ],
      "execution_count": null,
      "outputs": [
        {
          "output_type": "display_data",
          "data": {
            "application/javascript": [
              "\n",
              "        if (window._pyforest_update_imports_cell) { window._pyforest_update_imports_cell('import plotly.express as px\\nimport pydot\\nfrom sklearn.feature_extraction.text import CountVectorizer\\nimport seaborn as sns\\nfrom sklearn.model_selection import cross_val_score\\nfrom sklearn.linear_model import LassoCV\\nimport pickle\\nimport plotly as py\\nfrom sklearn.linear_model import LinearRegression\\nfrom sklearn.ensemble import GradientBoostingRegressor\\nfrom statsmodels.tsa.arima_model import ARIMA\\nimport altair as alt\\nimport bokeh\\nfrom sklearn.ensemble import GradientBoostingClassifier\\nfrom sklearn.model_selection import GridSearchCV\\nfrom sklearn.preprocessing import LabelEncoder\\nfrom sklearn.linear_model import Lasso\\nimport pandas as pd\\nimport matplotlib.pyplot as plt\\nimport cv2\\nfrom sklearn.linear_model import LogisticRegression'); }\n",
              "    "
            ],
            "text/plain": [
              "<IPython.core.display.Javascript object>"
            ]
          },
          "metadata": {}
        },
        {
          "output_type": "display_data",
          "data": {
            "application/javascript": [
              "\n",
              "        if (window._pyforest_update_imports_cell) { window._pyforest_update_imports_cell('import plotly.express as px\\nimport pydot\\nfrom sklearn.feature_extraction.text import CountVectorizer\\nimport seaborn as sns\\nfrom sklearn.model_selection import cross_val_score\\nfrom sklearn.linear_model import LassoCV\\nimport pickle\\nimport plotly as py\\nfrom sklearn.linear_model import LinearRegression\\nfrom sklearn.ensemble import GradientBoostingRegressor\\nfrom statsmodels.tsa.arima_model import ARIMA\\nimport altair as alt\\nimport bokeh\\nfrom sklearn.ensemble import GradientBoostingClassifier\\nfrom sklearn.model_selection import GridSearchCV\\nfrom sklearn.preprocessing import LabelEncoder\\nfrom sklearn.linear_model import Lasso\\nimport pandas as pd\\nimport matplotlib.pyplot as plt\\nimport cv2\\nfrom sklearn.linear_model import LogisticRegression'); }\n",
              "    "
            ],
            "text/plain": [
              "<IPython.core.display.Javascript object>"
            ]
          },
          "metadata": {}
        },
        {
          "output_type": "display_data",
          "data": {
            "application/javascript": [
              "\n",
              "        if (window._pyforest_update_imports_cell) { window._pyforest_update_imports_cell('import plotly.express as px\\nimport pydot\\nfrom sklearn.feature_extraction.text import CountVectorizer\\nimport seaborn as sns\\nfrom sklearn.model_selection import cross_val_score\\nfrom sklearn.linear_model import LassoCV\\nimport pickle\\nimport plotly as py\\nfrom sklearn.linear_model import LinearRegression\\nfrom sklearn.ensemble import GradientBoostingRegressor\\nfrom statsmodels.tsa.arima_model import ARIMA\\nimport altair as alt\\nimport bokeh\\nfrom sklearn.ensemble import GradientBoostingClassifier\\nfrom sklearn.model_selection import GridSearchCV\\nfrom sklearn.preprocessing import LabelEncoder\\nfrom sklearn.linear_model import Lasso\\nimport pandas as pd\\nimport matplotlib.pyplot as plt\\nimport cv2\\nfrom sklearn.linear_model import LogisticRegression'); }\n",
              "    "
            ],
            "text/plain": [
              "<IPython.core.display.Javascript object>"
            ]
          },
          "metadata": {}
        },
        {
          "output_type": "display_data",
          "data": {
            "application/javascript": [
              "\n",
              "        if (window._pyforest_update_imports_cell) { window._pyforest_update_imports_cell('import plotly.express as px\\nimport pydot\\nfrom sklearn.feature_extraction.text import CountVectorizer\\nimport seaborn as sns\\nfrom sklearn.model_selection import cross_val_score\\nfrom sklearn.linear_model import LassoCV\\nimport pickle\\nimport plotly as py\\nfrom sklearn.linear_model import LinearRegression\\nfrom sklearn.ensemble import GradientBoostingRegressor\\nfrom statsmodels.tsa.arima_model import ARIMA\\nimport altair as alt\\nimport bokeh\\nfrom sklearn.ensemble import GradientBoostingClassifier\\nfrom sklearn.model_selection import GridSearchCV\\nfrom sklearn.preprocessing import LabelEncoder\\nfrom sklearn.linear_model import Lasso\\nimport pandas as pd\\nimport matplotlib.pyplot as plt\\nimport cv2\\nfrom sklearn.linear_model import LogisticRegression'); }\n",
              "    "
            ],
            "text/plain": [
              "<IPython.core.display.Javascript object>"
            ]
          },
          "metadata": {}
        },
        {
          "output_type": "display_data",
          "data": {
            "application/javascript": [
              "\n",
              "        if (window._pyforest_update_imports_cell) { window._pyforest_update_imports_cell('import plotly.express as px\\nimport pydot\\nfrom sklearn.feature_extraction.text import CountVectorizer\\nimport seaborn as sns\\nfrom sklearn.model_selection import cross_val_score\\nfrom sklearn.linear_model import LassoCV\\nimport pickle\\nimport plotly as py\\nfrom sklearn.linear_model import LinearRegression\\nfrom sklearn.ensemble import GradientBoostingRegressor\\nfrom statsmodels.tsa.arima_model import ARIMA\\nimport altair as alt\\nimport bokeh\\nfrom sklearn.ensemble import GradientBoostingClassifier\\nfrom sklearn.model_selection import GridSearchCV\\nfrom sklearn.preprocessing import LabelEncoder\\nfrom sklearn.linear_model import Lasso\\nimport pandas as pd\\nimport matplotlib.pyplot as plt\\nimport cv2\\nfrom sklearn.linear_model import LogisticRegression'); }\n",
              "    "
            ],
            "text/plain": [
              "<IPython.core.display.Javascript object>"
            ]
          },
          "metadata": {}
        },
        {
          "output_type": "display_data",
          "data": {
            "image/png": "[encoded data removed]",
            "text/plain": [
              "<Figure size 576x432 with 1 Axes>"
            ]
          },
          "metadata": {
            "needs_background": "light"
          }
        }
      ]
    },
    {
      "cell_type": "markdown",
      "metadata": {
        "id": "by_0OblRS2XJ"
      },
      "source": [
        "after expecting the distribution of rating ctegories, it is abvious that TV-MA is the mode\n",
        "TV-14 comes in the second place and so on..."
      ]
    },
    {
      "cell_type": "code",
      "metadata": {
        "colab": {
          "base_uri": "https://localhost:8080/",
          "height": 512
        },
        "id": "NGcj-SRaR-gE",
        "outputId": "fa993e40-116f-4113-e909-3e4f3efb525c"
      },
      "source": [
        "plt.figure(figsize=(10,8))\n",
        "sns.countplot(x='rating',hue='type',data=netflix_df)\n",
        "plt.title('comparing frequency between type and rating')\n",
        "plt.show()"
      ],
      "execution_count": null,
      "outputs": [
        {
          "output_type": "display_data",
          "data": {
            "application/javascript": [
              "\n",
              "        if (window._pyforest_update_imports_cell) { window._pyforest_update_imports_cell('import plotly.express as px\\nimport pydot\\nfrom sklearn.feature_extraction.text import CountVectorizer\\nimport seaborn as sns\\nfrom sklearn.model_selection import cross_val_score\\nfrom sklearn.linear_model import LassoCV\\nimport pickle\\nimport plotly as py\\nfrom sklearn.linear_model import LinearRegression\\nfrom sklearn.ensemble import GradientBoostingRegressor\\nfrom statsmodels.tsa.arima_model import ARIMA\\nimport altair as alt\\nimport bokeh\\nfrom sklearn.ensemble import GradientBoostingClassifier\\nfrom sklearn.model_selection import GridSearchCV\\nfrom sklearn.preprocessing import LabelEncoder\\nfrom sklearn.linear_model import Lasso\\nimport pandas as pd\\nimport matplotlib.pyplot as plt\\nimport cv2\\nfrom sklearn.linear_model import LogisticRegression'); }\n",
              "    "
            ],
            "text/plain": [
              "<IPython.core.display.Javascript object>"
            ]
          },
          "metadata": {}
        },
        {
          "output_type": "display_data",
          "data": {
            "application/javascript": [
              "\n",
              "        if (window._pyforest_update_imports_cell) { window._pyforest_update_imports_cell('import plotly.express as px\\nimport pydot\\nfrom sklearn.feature_extraction.text import CountVectorizer\\nimport seaborn as sns\\nfrom sklearn.model_selection import cross_val_score\\nfrom sklearn.linear_model import LassoCV\\nimport pickle\\nimport plotly as py\\nfrom sklearn.linear_model import LinearRegression\\nfrom sklearn.ensemble import GradientBoostingRegressor\\nfrom statsmodels.tsa.arima_model import ARIMA\\nimport altair as alt\\nimport bokeh\\nfrom sklearn.ensemble import GradientBoostingClassifier\\nfrom sklearn.model_selection import GridSearchCV\\nfrom sklearn.preprocessing import LabelEncoder\\nfrom sklearn.linear_model import Lasso\\nimport pandas as pd\\nimport matplotlib.pyplot as plt\\nimport cv2\\nfrom sklearn.linear_model import LogisticRegression'); }\n",
              "    "
            ],
            "text/plain": [
              "<IPython.core.display.Javascript object>"
            ]
          },
          "metadata": {}
        },
        {
          "output_type": "display_data",
          "data": {
            "application/javascript": [
              "\n",
              "        if (window._pyforest_update_imports_cell) { window._pyforest_update_imports_cell('import plotly.express as px\\nimport pydot\\nfrom sklearn.feature_extraction.text import CountVectorizer\\nimport seaborn as sns\\nfrom sklearn.model_selection import cross_val_score\\nfrom sklearn.linear_model import LassoCV\\nimport pickle\\nimport plotly as py\\nfrom sklearn.linear_model import LinearRegression\\nfrom sklearn.ensemble import GradientBoostingRegressor\\nfrom statsmodels.tsa.arima_model import ARIMA\\nimport altair as alt\\nimport bokeh\\nfrom sklearn.ensemble import GradientBoostingClassifier\\nfrom sklearn.model_selection import GridSearchCV\\nfrom sklearn.preprocessing import LabelEncoder\\nfrom sklearn.linear_model import Lasso\\nimport pandas as pd\\nimport matplotlib.pyplot as plt\\nimport cv2\\nfrom sklearn.linear_model import LogisticRegression'); }\n",
              "    "
            ],
            "text/plain": [
              "<IPython.core.display.Javascript object>"
            ]
          },
          "metadata": {}
        },
        {
          "output_type": "display_data",
          "data": {
            "application/javascript": [
              "\n",
              "        if (window._pyforest_update_imports_cell) { window._pyforest_update_imports_cell('import plotly.express as px\\nimport pydot\\nfrom sklearn.feature_extraction.text import CountVectorizer\\nimport seaborn as sns\\nfrom sklearn.model_selection import cross_val_score\\nfrom sklearn.linear_model import LassoCV\\nimport pickle\\nimport plotly as py\\nfrom sklearn.linear_model import LinearRegression\\nfrom sklearn.ensemble import GradientBoostingRegressor\\nfrom statsmodels.tsa.arima_model import ARIMA\\nimport altair as alt\\nimport bokeh\\nfrom sklearn.ensemble import GradientBoostingClassifier\\nfrom sklearn.model_selection import GridSearchCV\\nfrom sklearn.preprocessing import LabelEncoder\\nfrom sklearn.linear_model import Lasso\\nimport pandas as pd\\nimport matplotlib.pyplot as plt\\nimport cv2\\nfrom sklearn.linear_model import LogisticRegression'); }\n",
              "    "
            ],
            "text/plain": [
              "<IPython.core.display.Javascript object>"
            ]
          },
          "metadata": {}
        },
        {
          "output_type": "display_data",
          "data": {
            "image/png": "[encoded data removed]",
            "text/plain": [
              "<Figure size 720x576 with 1 Axes>"
            ]
          },
          "metadata": {
            "needs_background": "light"
          }
        }
      ]
    },
    {
      "cell_type": "code",
      "metadata": {
        "colab": {
          "base_uri": "https://localhost:8080/",
          "height": 512
        },
        "id": "A_XlpwXIVYta",
        "outputId": "acb63e5d-049c-4cc4-f0c8-f77b694e35d8"
      },
      "source": [
        "top_productive_countries=netflix_df[(netflix_df['country']=='United States')|(netflix_df['country']=='India')|(netflix_df['country']=='United Kingdom')|(netflix_df['country']=='Japan')|\n",
        "                             (netflix_df['country']=='Canada')|(netflix_df['country']=='Spain')]\n",
        "plt.figure(figsize=(10,8))\n",
        "sns.countplot(x='country',hue='type',data=top_productive_countries)\n",
        "plt.title('comparing between the types that the top countries produce')\n",
        "plt.show()"
      ],
      "execution_count": null,
      "outputs": [
        {
          "output_type": "display_data",
          "data": {
            "application/javascript": [
              "\n",
              "        if (window._pyforest_update_imports_cell) { window._pyforest_update_imports_cell('import plotly.express as px\\nimport pydot\\nfrom sklearn.feature_extraction.text import CountVectorizer\\nimport seaborn as sns\\nfrom sklearn.model_selection import cross_val_score\\nfrom sklearn.linear_model import LassoCV\\nimport pickle\\nimport plotly as py\\nfrom sklearn.linear_model import LinearRegression\\nfrom sklearn.ensemble import GradientBoostingRegressor\\nfrom statsmodels.tsa.arima_model import ARIMA\\nimport altair as alt\\nimport bokeh\\nfrom sklearn.ensemble import GradientBoostingClassifier\\nfrom sklearn.model_selection import GridSearchCV\\nfrom sklearn.preprocessing import LabelEncoder\\nfrom sklearn.linear_model import Lasso\\nimport pandas as pd\\nimport matplotlib.pyplot as plt\\nimport cv2\\nfrom sklearn.linear_model import LogisticRegression'); }\n",
              "    "
            ],
            "text/plain": [
              "<IPython.core.display.Javascript object>"
            ]
          },
          "metadata": {}
        },
        {
          "output_type": "display_data",
          "data": {
            "application/javascript": [
              "\n",
              "        if (window._pyforest_update_imports_cell) { window._pyforest_update_imports_cell('import plotly.express as px\\nimport pydot\\nfrom sklearn.feature_extraction.text import CountVectorizer\\nimport seaborn as sns\\nfrom sklearn.model_selection import cross_val_score\\nfrom sklearn.linear_model import LassoCV\\nimport pickle\\nimport plotly as py\\nfrom sklearn.linear_model import LinearRegression\\nfrom sklearn.ensemble import GradientBoostingRegressor\\nfrom statsmodels.tsa.arima_model import ARIMA\\nimport altair as alt\\nimport bokeh\\nfrom sklearn.ensemble import GradientBoostingClassifier\\nfrom sklearn.model_selection import GridSearchCV\\nfrom sklearn.preprocessing import LabelEncoder\\nfrom sklearn.linear_model import Lasso\\nimport pandas as pd\\nimport matplotlib.pyplot as plt\\nimport cv2\\nfrom sklearn.linear_model import LogisticRegression'); }\n",
              "    "
            ],
            "text/plain": [
              "<IPython.core.display.Javascript object>"
            ]
          },
          "metadata": {}
        },
        {
          "output_type": "display_data",
          "data": {
            "application/javascript": [
              "\n",
              "        if (window._pyforest_update_imports_cell) { window._pyforest_update_imports_cell('import plotly.express as px\\nimport pydot\\nfrom sklearn.feature_extraction.text import CountVectorizer\\nimport seaborn as sns\\nfrom sklearn.model_selection import cross_val_score\\nfrom sklearn.linear_model import LassoCV\\nimport pickle\\nimport plotly as py\\nfrom sklearn.linear_model import LinearRegression\\nfrom sklearn.ensemble import GradientBoostingRegressor\\nfrom statsmodels.tsa.arima_model import ARIMA\\nimport altair as alt\\nimport bokeh\\nfrom sklearn.ensemble import GradientBoostingClassifier\\nfrom sklearn.model_selection import GridSearchCV\\nfrom sklearn.preprocessing import LabelEncoder\\nfrom sklearn.linear_model import Lasso\\nimport pandas as pd\\nimport matplotlib.pyplot as plt\\nimport cv2\\nfrom sklearn.linear_model import LogisticRegression'); }\n",
              "    "
            ],
            "text/plain": [
              "<IPython.core.display.Javascript object>"
            ]
          },
          "metadata": {}
        },
        {
          "output_type": "display_data",
          "data": {
            "application/javascript": [
              "\n",
              "        if (window._pyforest_update_imports_cell) { window._pyforest_update_imports_cell('import plotly.express as px\\nimport pydot\\nfrom sklearn.feature_extraction.text import CountVectorizer\\nimport seaborn as sns\\nfrom sklearn.model_selection import cross_val_score\\nfrom sklearn.linear_model import LassoCV\\nimport pickle\\nimport plotly as py\\nfrom sklearn.linear_model import LinearRegression\\nfrom sklearn.ensemble import GradientBoostingRegressor\\nfrom statsmodels.tsa.arima_model import ARIMA\\nimport altair as alt\\nimport bokeh\\nfrom sklearn.ensemble import GradientBoostingClassifier\\nfrom sklearn.model_selection import GridSearchCV\\nfrom sklearn.preprocessing import LabelEncoder\\nfrom sklearn.linear_model import Lasso\\nimport pandas as pd\\nimport matplotlib.pyplot as plt\\nimport cv2\\nfrom sklearn.linear_model import LogisticRegression'); }\n",
              "    "
            ],
            "text/plain": [
              "<IPython.core.display.Javascript object>"
            ]
          },
          "metadata": {}
        },
        {
          "output_type": "display_data",
          "data": {
            "image/png": "[encoded data removed]",
            "text/plain": [
              "<Figure size 720x576 with 1 Axes>"
            ]
          },
          "metadata": {
            "needs_background": "light"
          }
        }
      ]
    },
    {
      "cell_type": "code",
      "metadata": {
        "colab": {
          "base_uri": "https://localhost:8080/"
        },
        "id": "eb5p9VePVt0w",
        "outputId": "44d7b03a-28e7-46b6-da26-356e410998b7"
      },
      "source": [
        "for i in top_productive_countries['country'].unique():\n",
        "    print(i)\n",
        "    print(top_productive_countries[top_productive_countries['country']==i]['rating'].value_counts(normalize=True)*100)\n",
        "    print('-'*10)"
      ],
      "execution_count": null,
      "outputs": [
        {
          "output_type": "stream",
          "name": "stdout",
          "text": [
            "United States\n",
            "TV-MA       34.482759\n",
            "TV-14       14.811912\n",
            "R           14.263323\n",
            "TV-PG        9.443574\n",
            "PG-13        8.894984\n",
            "PG           5.642633\n",
            "TV-Y7        3.644201\n",
            "TV-Y         3.173981\n",
            "TV-G         3.017241\n",
            "NR           1.371473\n",
            "G            1.136364\n",
            "UR           0.039185\n",
            "NC-17        0.039185\n",
            "TV-Y7-FV     0.039185\n",
            "Name: rating, dtype: float64\n",
            "----------\n",
            "India\n",
            "TV-14       56.338028\n",
            "TV-MA       24.702059\n",
            "TV-PG       14.409534\n",
            "TV-Y7        1.191766\n",
            "TV-G         0.975081\n",
            "TV-Y         0.650054\n",
            "NR           0.541712\n",
            "PG-13        0.433369\n",
            "PG           0.325027\n",
            "R            0.216685\n",
            "TV-Y7-FV     0.108342\n",
            "UR           0.108342\n",
            "Name: rating, dtype: float64\n",
            "----------\n",
            "United Kingdom\n",
            "TV-MA    42.317380\n",
            "TV-PG    18.639798\n",
            "TV-14    17.128463\n",
            "R         7.808564\n",
            "TV-G      5.289673\n",
            "TV-Y      4.030227\n",
            "PG-13     1.763224\n",
            "NR        1.259446\n",
            "TV-Y7     1.259446\n",
            "PG        0.503778\n",
            "Name: rating, dtype: float64\n",
            "----------\n",
            "Japan\n",
            "TV-MA    36.444444\n",
            "TV-14    34.222222\n",
            "TV-PG    17.333333\n",
            "TV-Y7     7.555556\n",
            "PG        2.222222\n",
            "PG-13     1.333333\n",
            "TV-G      0.444444\n",
            "TV-Y      0.444444\n",
            "Name: rating, dtype: float64\n",
            "----------\n",
            "Canada\n",
            "TV-MA       33.898305\n",
            "TV-14       12.994350\n",
            "TV-PG       12.429379\n",
            "TV-Y         9.604520\n",
            "R            9.039548\n",
            "TV-G         7.909605\n",
            "TV-Y7        5.084746\n",
            "PG           4.519774\n",
            "PG-13        1.694915\n",
            "NR           1.129944\n",
            "NC-17        0.564972\n",
            "TV-Y7-FV     0.564972\n",
            "G            0.564972\n",
            "Name: rating, dtype: float64\n",
            "----------\n",
            "Spain\n",
            "TV-MA    81.343284\n",
            "TV-14     8.955224\n",
            "TV-PG     3.731343\n",
            "R         1.492537\n",
            "TV-Y      1.492537\n",
            "PG-13     0.746269\n",
            "TV-G      0.746269\n",
            "PG        0.746269\n",
            "NR        0.746269\n",
            "Name: rating, dtype: float64\n",
            "----------\n"
          ]
        }
      ]
    },
    {
      "cell_type": "code",
      "metadata": {
        "colab": {
          "base_uri": "https://localhost:8080/",
          "height": 524
        },
        "id": "szj30rPtZ6Dt",
        "outputId": "2663197f-1958-4165-e631-b76776a96fcd"
      },
      "source": [
        "plt.figure(figsize=(18,8))\n",
        "netflix_df['release_year'].value_counts().plot.bar()\n",
        "plt.title('distribution of year-added')\n",
        "plt.ylabel('relative frequency')\n",
        "plt.xlabel('year_added')\n",
        "plt.show()"
      ],
      "execution_count": null,
      "outputs": [
        {
          "output_type": "display_data",
          "data": {
            "application/javascript": [
              "\n",
              "        if (window._pyforest_update_imports_cell) { window._pyforest_update_imports_cell('import plotly.express as px\\nimport pydot\\nfrom sklearn.feature_extraction.text import CountVectorizer\\nimport seaborn as sns\\nfrom sklearn.model_selection import cross_val_score\\nfrom sklearn.linear_model import LassoCV\\nimport pickle\\nimport plotly as py\\nfrom sklearn.linear_model import LinearRegression\\nfrom sklearn.ensemble import GradientBoostingRegressor\\nfrom statsmodels.tsa.arima_model import ARIMA\\nimport altair as alt\\nimport bokeh\\nfrom sklearn.ensemble import GradientBoostingClassifier\\nfrom sklearn.model_selection import GridSearchCV\\nfrom sklearn.preprocessing import LabelEncoder\\nfrom sklearn.linear_model import Lasso\\nimport pandas as pd\\nimport matplotlib.pyplot as plt\\nimport cv2\\nfrom sklearn.linear_model import LogisticRegression'); }\n",
              "    "
            ],
            "text/plain": [
              "<IPython.core.display.Javascript object>"
            ]
          },
          "metadata": {}
        },
        {
          "output_type": "display_data",
          "data": {
            "application/javascript": [
              "\n",
              "        if (window._pyforest_update_imports_cell) { window._pyforest_update_imports_cell('import plotly.express as px\\nimport pydot\\nfrom sklearn.feature_extraction.text import CountVectorizer\\nimport seaborn as sns\\nfrom sklearn.model_selection import cross_val_score\\nfrom sklearn.linear_model import LassoCV\\nimport pickle\\nimport plotly as py\\nfrom sklearn.linear_model import LinearRegression\\nfrom sklearn.ensemble import GradientBoostingRegressor\\nfrom statsmodels.tsa.arima_model import ARIMA\\nimport altair as alt\\nimport bokeh\\nfrom sklearn.ensemble import GradientBoostingClassifier\\nfrom sklearn.model_selection import GridSearchCV\\nfrom sklearn.preprocessing import LabelEncoder\\nfrom sklearn.linear_model import Lasso\\nimport pandas as pd\\nimport matplotlib.pyplot as plt\\nimport cv2\\nfrom sklearn.linear_model import LogisticRegression'); }\n",
              "    "
            ],
            "text/plain": [
              "<IPython.core.display.Javascript object>"
            ]
          },
          "metadata": {}
        },
        {
          "output_type": "display_data",
          "data": {
            "application/javascript": [
              "\n",
              "        if (window._pyforest_update_imports_cell) { window._pyforest_update_imports_cell('import plotly.express as px\\nimport pydot\\nfrom sklearn.feature_extraction.text import CountVectorizer\\nimport seaborn as sns\\nfrom sklearn.model_selection import cross_val_score\\nfrom sklearn.linear_model import LassoCV\\nimport pickle\\nimport plotly as py\\nfrom sklearn.linear_model import LinearRegression\\nfrom sklearn.ensemble import GradientBoostingRegressor\\nfrom statsmodels.tsa.arima_model import ARIMA\\nimport altair as alt\\nimport bokeh\\nfrom sklearn.ensemble import GradientBoostingClassifier\\nfrom sklearn.model_selection import GridSearchCV\\nfrom sklearn.preprocessing import LabelEncoder\\nfrom sklearn.linear_model import Lasso\\nimport pandas as pd\\nimport matplotlib.pyplot as plt\\nimport cv2\\nfrom sklearn.linear_model import LogisticRegression'); }\n",
              "    "
            ],
            "text/plain": [
              "<IPython.core.display.Javascript object>"
            ]
          },
          "metadata": {}
        },
        {
          "output_type": "display_data",
          "data": {
            "application/javascript": [
              "\n",
              "        if (window._pyforest_update_imports_cell) { window._pyforest_update_imports_cell('import plotly.express as px\\nimport pydot\\nfrom sklearn.feature_extraction.text import CountVectorizer\\nimport seaborn as sns\\nfrom sklearn.model_selection import cross_val_score\\nfrom sklearn.linear_model import LassoCV\\nimport pickle\\nimport plotly as py\\nfrom sklearn.linear_model import LinearRegression\\nfrom sklearn.ensemble import GradientBoostingRegressor\\nfrom statsmodels.tsa.arima_model import ARIMA\\nimport altair as alt\\nimport bokeh\\nfrom sklearn.ensemble import GradientBoostingClassifier\\nfrom sklearn.model_selection import GridSearchCV\\nfrom sklearn.preprocessing import LabelEncoder\\nfrom sklearn.linear_model import Lasso\\nimport pandas as pd\\nimport matplotlib.pyplot as plt\\nimport cv2\\nfrom sklearn.linear_model import LogisticRegression'); }\n",
              "    "
            ],
            "text/plain": [
              "<IPython.core.display.Javascript object>"
            ]
          },
          "metadata": {}
        },
        {
          "output_type": "display_data",
          "data": {
            "application/javascript": [
              "\n",
              "        if (window._pyforest_update_imports_cell) { window._pyforest_update_imports_cell('import plotly.express as px\\nimport pydot\\nfrom sklearn.feature_extraction.text import CountVectorizer\\nimport seaborn as sns\\nfrom sklearn.model_selection import cross_val_score\\nfrom sklearn.linear_model import LassoCV\\nimport pickle\\nimport plotly as py\\nfrom sklearn.linear_model import LinearRegression\\nfrom sklearn.ensemble import GradientBoostingRegressor\\nfrom statsmodels.tsa.arima_model import ARIMA\\nimport altair as alt\\nimport bokeh\\nfrom sklearn.ensemble import GradientBoostingClassifier\\nfrom sklearn.model_selection import GridSearchCV\\nfrom sklearn.preprocessing import LabelEncoder\\nfrom sklearn.linear_model import Lasso\\nimport pandas as pd\\nimport matplotlib.pyplot as plt\\nimport cv2\\nfrom sklearn.linear_model import LogisticRegression'); }\n",
              "    "
            ],
            "text/plain": [
              "<IPython.core.display.Javascript object>"
            ]
          },
          "metadata": {}
        },
        {
          "output_type": "display_data",
          "data": {
            "image/png": "[encoded data removed]",
            "text/plain": [
              "<Figure size 1296x576 with 1 Axes>"
            ]
          },
          "metadata": {
            "needs_background": "light"
          }
        }
      ]
    },
    {
      "cell_type": "markdown",
      "metadata": {
        "id": "4F2dm3eIdmvg"
      },
      "source": [
        "2018 is remarkable year for netflix"
      ]
    },
    {
      "cell_type": "markdown",
      "metadata": {
        "id": "v3UVUlVVk2-R"
      },
      "source": [
        "If a producer wants to release a show which month is the best month to release it.\n",
        "The best month to release content so the producer can gain much revenue. Most of the holidays came in December month so to releases a Movie or TV show in December is the best way to earn a lot of profit as the whole family will be spending time with each other and watching shows.\n"
      ]
    },
    {
      "cell_type": "code",
      "metadata": {
        "colab": {
          "base_uri": "https://localhost:8080/",
          "height": 363
        },
        "id": "OzOKFw0ykt2M",
        "outputId": "399c7ac6-da35-4fc6-9a2f-39ad680fd7d0"
      },
      "source": [
        "df_month = pd.DataFrame(netflix_df.month_added.value_counts()).reset_index().rename(columns={'index':'month','month_added':'count'})\n",
        "# converting month number to month name\n",
        "df_month['month_final'] = df_month['month'].replace({1:'Jan', 2:'Feb', 3:'Mar', 4:'Apr', 5:'May', 6:'June', 7:'July', 8:'Aug', 9:'Sep', 10:'Oct', 11:'Nov', 12:'Dec'})\n",
        "df_month[:10]"
      ],
      "execution_count": null,
      "outputs": [
        {
          "output_type": "display_data",
          "data": {
            "application/javascript": [
              "\n",
              "        if (window._pyforest_update_imports_cell) { window._pyforest_update_imports_cell('import plotly.express as px\\nimport pydot\\nfrom sklearn.feature_extraction.text import CountVectorizer\\nimport seaborn as sns\\nfrom sklearn.model_selection import cross_val_score\\nfrom sklearn.linear_model import LassoCV\\nimport pickle\\nimport plotly as py\\nfrom sklearn.linear_model import LinearRegression\\nfrom sklearn.ensemble import GradientBoostingRegressor\\nfrom statsmodels.tsa.arima_model import ARIMA\\nimport altair as alt\\nimport bokeh\\nfrom sklearn.ensemble import GradientBoostingClassifier\\nfrom sklearn.model_selection import GridSearchCV\\nfrom sklearn.preprocessing import LabelEncoder\\nfrom sklearn.linear_model import Lasso\\nimport pandas as pd\\nimport matplotlib.pyplot as plt\\nimport cv2\\nfrom sklearn.linear_model import LogisticRegression'); }\n",
              "    "
            ],
            "text/plain": [
              "<IPython.core.display.Javascript object>"
            ]
          },
          "metadata": {}
        },
        {
          "output_type": "execute_result",
          "data": {
            "text/html": [
              "<div>\n",
              "<style scoped>\n",
              "    .dataframe tbody tr th:only-of-type {\n",
              "        vertical-align: middle;\n",
              "    }\n",
              "\n",
              "    .dataframe tbody tr th {\n",
              "        vertical-align: top;\n",
              "    }\n",
              "\n",
              "    .dataframe thead th {\n",
              "        text-align: right;\n",
              "    }\n",
              "</style>\n",
              "<table border=\"1\" class=\"dataframe\">\n",
              "  <thead>\n",
              "    <tr style=\"text-align: right;\">\n",
              "      <th></th>\n",
              "      <th>month</th>\n",
              "      <th>count</th>\n",
              "      <th>month_final</th>\n",
              "    </tr>\n",
              "  </thead>\n",
              "  <tbody>\n",
              "    <tr>\n",
              "      <th>0</th>\n",
              "      <td>12.0</td>\n",
              "      <td>833</td>\n",
              "      <td>Dec</td>\n",
              "    </tr>\n",
              "    <tr>\n",
              "      <th>1</th>\n",
              "      <td>10.0</td>\n",
              "      <td>785</td>\n",
              "      <td>Oct</td>\n",
              "    </tr>\n",
              "    <tr>\n",
              "      <th>2</th>\n",
              "      <td>1.0</td>\n",
              "      <td>757</td>\n",
              "      <td>Jan</td>\n",
              "    </tr>\n",
              "    <tr>\n",
              "      <th>3</th>\n",
              "      <td>11.0</td>\n",
              "      <td>738</td>\n",
              "      <td>Nov</td>\n",
              "    </tr>\n",
              "    <tr>\n",
              "      <th>4</th>\n",
              "      <td>3.0</td>\n",
              "      <td>669</td>\n",
              "      <td>Mar</td>\n",
              "    </tr>\n",
              "    <tr>\n",
              "      <th>5</th>\n",
              "      <td>9.0</td>\n",
              "      <td>619</td>\n",
              "      <td>Sep</td>\n",
              "    </tr>\n",
              "    <tr>\n",
              "      <th>6</th>\n",
              "      <td>8.0</td>\n",
              "      <td>618</td>\n",
              "      <td>Aug</td>\n",
              "    </tr>\n",
              "    <tr>\n",
              "      <th>7</th>\n",
              "      <td>4.0</td>\n",
              "      <td>601</td>\n",
              "      <td>Apr</td>\n",
              "    </tr>\n",
              "    <tr>\n",
              "      <th>8</th>\n",
              "      <td>7.0</td>\n",
              "      <td>600</td>\n",
              "      <td>July</td>\n",
              "    </tr>\n",
              "    <tr>\n",
              "      <th>9</th>\n",
              "      <td>5.0</td>\n",
              "      <td>543</td>\n",
              "      <td>May</td>\n",
              "    </tr>\n",
              "  </tbody>\n",
              "</table>\n",
              "</div>"
            ],
            "text/plain": [
              "   month  count month_final\n",
              "0   12.0    833         Dec\n",
              "1   10.0    785         Oct\n",
              "2    1.0    757         Jan\n",
              "3   11.0    738         Nov\n",
              "4    3.0    669         Mar\n",
              "5    9.0    619         Sep\n",
              "6    8.0    618         Aug\n",
              "7    4.0    601         Apr\n",
              "8    7.0    600        July\n",
              "9    5.0    543         May"
            ]
          },
          "metadata": {},
          "execution_count": 78
        }
      ]
    },
    {
      "cell_type": "markdown",
      "metadata": {
        "id": "xgKmqtcCFRsC"
      },
      "source": [
        "Here we can see december has more movies than other months"
      ]
    },
    {
      "cell_type": "markdown",
      "metadata": {
        "id": "zCrqd6J-G7Zu"
      },
      "source": [
        "# EDA of netflix.originals"
      ]
    },
    {
      "cell_type": "code",
      "metadata": {
        "id": "lfSKgpzILTn2"
      },
      "source": [
        "pip install autoviz"
      ],
      "execution_count": null,
      "outputs": []
    },
    {
      "cell_type": "code",
      "metadata": {
        "colab": {
          "base_uri": "https://localhost:8080/",
          "height": 206
        },
        "id": "rhK-saMsHEsq",
        "outputId": "c851c370-22ca-4deb-81c0-fc512c90fa2b"
      },
      "source": [
        "df=pd.read_csv(\"/content/NetflixOriginals.csv\")\n",
        "import autoviz\n",
        "import warnings\n",
        "warnings.filterwarnings('ignore')\n",
        "\n",
        "#importing Autoviz class\n",
        "from autoviz.AutoViz_Class import AutoViz_Class#Instantiate the AutoViz class\n",
        "AV = AutoViz_Class()\n",
        "df.head()"
      ],
      "execution_count": null,
      "outputs": [
        {
          "output_type": "display_data",
          "data": {
            "application/javascript": [
              "\n",
              "        if (window._pyforest_update_imports_cell) { window._pyforest_update_imports_cell('import plotly.express as px\\nimport pydot\\nfrom sklearn.feature_extraction.text import CountVectorizer\\nimport seaborn as sns\\nfrom sklearn.model_selection import cross_val_score\\nfrom sklearn.linear_model import LassoCV\\nimport pickle\\nimport plotly as py\\nfrom sklearn.linear_model import LinearRegression\\nfrom sklearn.ensemble import GradientBoostingRegressor\\nfrom statsmodels.tsa.arima_model import ARIMA\\nimport altair as alt\\nimport bokeh\\nfrom sklearn.ensemble import GradientBoostingClassifier\\nfrom sklearn.model_selection import GridSearchCV\\nfrom sklearn.preprocessing import LabelEncoder\\nfrom sklearn.linear_model import Lasso\\nimport pandas as pd\\nimport matplotlib.pyplot as plt\\nimport cv2\\nfrom sklearn.linear_model import LogisticRegression'); }\n",
              "    "
            ],
            "text/plain": [
              "<IPython.core.display.Javascript object>"
            ]
          },
          "metadata": {}
        },
        {
          "output_type": "execute_result",
          "data": {
            "text/html": [
              "<div>\n",
              "<style scoped>\n",
              "    .dataframe tbody tr th:only-of-type {\n",
              "        vertical-align: middle;\n",
              "    }\n",
              "\n",
              "    .dataframe tbody tr th {\n",
              "        vertical-align: top;\n",
              "    }\n",
              "\n",
              "    .dataframe thead th {\n",
              "        text-align: right;\n",
              "    }\n",
              "</style>\n",
              "<table border=\"1\" class=\"dataframe\">\n",
              "  <thead>\n",
              "    <tr style=\"text-align: right;\">\n",
              "      <th></th>\n",
              "      <th>Title</th>\n",
              "      <th>Genre</th>\n",
              "      <th>Premiere</th>\n",
              "      <th>Runtime</th>\n",
              "      <th>IMDB Score</th>\n",
              "      <th>Language</th>\n",
              "    </tr>\n",
              "  </thead>\n",
              "  <tbody>\n",
              "    <tr>\n",
              "      <th>0</th>\n",
              "      <td>Enter the Anime</td>\n",
              "      <td>Documentary</td>\n",
              "      <td>August 5, 2019</td>\n",
              "      <td>58</td>\n",
              "      <td>2.5</td>\n",
              "      <td>English/Japanese</td>\n",
              "    </tr>\n",
              "    <tr>\n",
              "      <th>1</th>\n",
              "      <td>Dark Forces</td>\n",
              "      <td>Thriller</td>\n",
              "      <td>August 21, 2020</td>\n",
              "      <td>81</td>\n",
              "      <td>2.6</td>\n",
              "      <td>Spanish</td>\n",
              "    </tr>\n",
              "    <tr>\n",
              "      <th>2</th>\n",
              "      <td>The App</td>\n",
              "      <td>Science fiction/Drama</td>\n",
              "      <td>December 26, 2019</td>\n",
              "      <td>79</td>\n",
              "      <td>2.6</td>\n",
              "      <td>Italian</td>\n",
              "    </tr>\n",
              "    <tr>\n",
              "      <th>3</th>\n",
              "      <td>The Open House</td>\n",
              "      <td>Horror thriller</td>\n",
              "      <td>January 19, 2018</td>\n",
              "      <td>94</td>\n",
              "      <td>3.2</td>\n",
              "      <td>English</td>\n",
              "    </tr>\n",
              "    <tr>\n",
              "      <th>4</th>\n",
              "      <td>Kaali Khuhi</td>\n",
              "      <td>Mystery</td>\n",
              "      <td>October 30, 2020</td>\n",
              "      <td>90</td>\n",
              "      <td>3.4</td>\n",
              "      <td>Hindi</td>\n",
              "    </tr>\n",
              "  </tbody>\n",
              "</table>\n",
              "</div>"
            ],
            "text/plain": [
              "             Title                  Genre  ... IMDB Score          Language\n",
              "0  Enter the Anime            Documentary  ...        2.5  English/Japanese\n",
              "1      Dark Forces               Thriller  ...        2.6           Spanish\n",
              "2          The App  Science fiction/Drama  ...        2.6           Italian\n",
              "3   The Open House        Horror thriller  ...        3.2           English\n",
              "4      Kaali Khuhi                Mystery  ...        3.4             Hindi\n",
              "\n",
              "[5 rows x 6 columns]"
            ]
          },
          "metadata": {},
          "execution_count": 80
        }
      ]
    },
    {
      "cell_type": "code",
      "metadata": {
        "colab": {
          "base_uri": "https://localhost:8080/"
        },
        "id": "6KBy1CLWJckc",
        "outputId": "f31c4488-3e0f-4c3f-a3c6-ffa67972f656"
      },
      "source": [
        "df.shape"
      ],
      "execution_count": null,
      "outputs": [
        {
          "output_type": "execute_result",
          "data": {
            "text/plain": [
              "(584, 6)"
            ]
          },
          "metadata": {},
          "execution_count": 81
        }
      ]
    },
    {
      "cell_type": "code",
      "metadata": {
        "colab": {
          "base_uri": "https://localhost:8080/"
        },
        "id": "KeUqNerHIdey",
        "outputId": "5881c1c7-30c4-4105-e75a-54583c1d4dab"
      },
      "source": [
        "df.info()"
      ],
      "execution_count": null,
      "outputs": [
        {
          "output_type": "stream",
          "name": "stdout",
          "text": [
            "<class 'pandas.core.frame.DataFrame'>\n",
            "RangeIndex: 584 entries, 0 to 583\n",
            "Data columns (total 6 columns):\n",
            " #   Column      Non-Null Count  Dtype  \n",
            "---  ------      --------------  -----  \n",
            " 0   Title       584 non-null    object \n",
            " 1   Genre       584 non-null    object \n",
            " 2   Premiere    584 non-null    object \n",
            " 3   Runtime     584 non-null    int64  \n",
            " 4   IMDB Score  584 non-null    float64\n",
            " 5   Language    584 non-null    object \n",
            "dtypes: float64(1), int64(1), object(4)\n",
            "memory usage: 27.5+ KB\n"
          ]
        }
      ]
    },
    {
      "cell_type": "code",
      "metadata": {
        "colab": {
          "base_uri": "https://localhost:8080/",
          "height": 300
        },
        "id": "x-8_NwGuIiKG",
        "outputId": "d0dce7a1-88de-40cd-cfc0-af4de673a5fd"
      },
      "source": [
        "df.describe()"
      ],
      "execution_count": null,
      "outputs": [
        {
          "output_type": "execute_result",
          "data": {
            "text/html": [
              "<div>\n",
              "<style scoped>\n",
              "    .dataframe tbody tr th:only-of-type {\n",
              "        vertical-align: middle;\n",
              "    }\n",
              "\n",
              "    .dataframe tbody tr th {\n",
              "        vertical-align: top;\n",
              "    }\n",
              "\n",
              "    .dataframe thead th {\n",
              "        text-align: right;\n",
              "    }\n",
              "</style>\n",
              "<table border=\"1\" class=\"dataframe\">\n",
              "  <thead>\n",
              "    <tr style=\"text-align: right;\">\n",
              "      <th></th>\n",
              "      <th>Runtime</th>\n",
              "      <th>IMDB Score</th>\n",
              "    </tr>\n",
              "  </thead>\n",
              "  <tbody>\n",
              "    <tr>\n",
              "      <th>count</th>\n",
              "      <td>584.000000</td>\n",
              "      <td>584.000000</td>\n",
              "    </tr>\n",
              "    <tr>\n",
              "      <th>mean</th>\n",
              "      <td>93.577055</td>\n",
              "      <td>6.271747</td>\n",
              "    </tr>\n",
              "    <tr>\n",
              "      <th>std</th>\n",
              "      <td>27.761683</td>\n",
              "      <td>0.979256</td>\n",
              "    </tr>\n",
              "    <tr>\n",
              "      <th>min</th>\n",
              "      <td>4.000000</td>\n",
              "      <td>2.500000</td>\n",
              "    </tr>\n",
              "    <tr>\n",
              "      <th>25%</th>\n",
              "      <td>86.000000</td>\n",
              "      <td>5.700000</td>\n",
              "    </tr>\n",
              "    <tr>\n",
              "      <th>50%</th>\n",
              "      <td>97.000000</td>\n",
              "      <td>6.350000</td>\n",
              "    </tr>\n",
              "    <tr>\n",
              "      <th>75%</th>\n",
              "      <td>108.000000</td>\n",
              "      <td>7.000000</td>\n",
              "    </tr>\n",
              "    <tr>\n",
              "      <th>max</th>\n",
              "      <td>209.000000</td>\n",
              "      <td>9.000000</td>\n",
              "    </tr>\n",
              "  </tbody>\n",
              "</table>\n",
              "</div>"
            ],
            "text/plain": [
              "          Runtime  IMDB Score\n",
              "count  584.000000  584.000000\n",
              "mean    93.577055    6.271747\n",
              "std     27.761683    0.979256\n",
              "min      4.000000    2.500000\n",
              "25%     86.000000    5.700000\n",
              "50%     97.000000    6.350000\n",
              "75%    108.000000    7.000000\n",
              "max    209.000000    9.000000"
            ]
          },
          "metadata": {},
          "execution_count": 83
        }
      ]
    },
    {
      "cell_type": "code",
      "metadata": {
        "colab": {
          "base_uri": "https://localhost:8080/",
          "height": 206
        },
        "id": "sgTrxu0ZPG9a",
        "outputId": "b679eb8a-5506-453c-f57c-bd338a0d3daf"
      },
      "source": [
        "# into a proper date-time format\n",
        "df[\"Premiere\"] = pd.to_datetime(df['Premiere'])\n",
        "df.head()"
      ],
      "execution_count": null,
      "outputs": [
        {
          "output_type": "display_data",
          "data": {
            "application/javascript": [
              "\n",
              "        if (window._pyforest_update_imports_cell) { window._pyforest_update_imports_cell('import plotly.express as px\\nimport pydot\\nfrom sklearn.feature_extraction.text import CountVectorizer\\nimport seaborn as sns\\nfrom sklearn.model_selection import cross_val_score\\nfrom sklearn.linear_model import LassoCV\\nimport pickle\\nimport plotly as py\\nfrom sklearn.linear_model import LinearRegression\\nfrom sklearn.ensemble import GradientBoostingRegressor\\nfrom statsmodels.tsa.arima_model import ARIMA\\nimport altair as alt\\nimport bokeh\\nfrom sklearn.ensemble import GradientBoostingClassifier\\nfrom sklearn.model_selection import GridSearchCV\\nfrom sklearn.preprocessing import LabelEncoder\\nfrom sklearn.linear_model import Lasso\\nimport pandas as pd\\nimport matplotlib.pyplot as plt\\nimport cv2\\nfrom sklearn.linear_model import LogisticRegression'); }\n",
              "    "
            ],
            "text/plain": [
              "<IPython.core.display.Javascript object>"
            ]
          },
          "metadata": {}
        },
        {
          "output_type": "execute_result",
          "data": {
            "text/html": [
              "<div>\n",
              "<style scoped>\n",
              "    .dataframe tbody tr th:only-of-type {\n",
              "        vertical-align: middle;\n",
              "    }\n",
              "\n",
              "    .dataframe tbody tr th {\n",
              "        vertical-align: top;\n",
              "    }\n",
              "\n",
              "    .dataframe thead th {\n",
              "        text-align: right;\n",
              "    }\n",
              "</style>\n",
              "<table border=\"1\" class=\"dataframe\">\n",
              "  <thead>\n",
              "    <tr style=\"text-align: right;\">\n",
              "      <th></th>\n",
              "      <th>Title</th>\n",
              "      <th>Genre</th>\n",
              "      <th>Premiere</th>\n",
              "      <th>Runtime</th>\n",
              "      <th>IMDB Score</th>\n",
              "      <th>Language</th>\n",
              "    </tr>\n",
              "  </thead>\n",
              "  <tbody>\n",
              "    <tr>\n",
              "      <th>0</th>\n",
              "      <td>Enter the Anime</td>\n",
              "      <td>Documentary</td>\n",
              "      <td>2019-08-05</td>\n",
              "      <td>58</td>\n",
              "      <td>2.5</td>\n",
              "      <td>English/Japanese</td>\n",
              "    </tr>\n",
              "    <tr>\n",
              "      <th>1</th>\n",
              "      <td>Dark Forces</td>\n",
              "      <td>Thriller</td>\n",
              "      <td>2020-08-21</td>\n",
              "      <td>81</td>\n",
              "      <td>2.6</td>\n",
              "      <td>Spanish</td>\n",
              "    </tr>\n",
              "    <tr>\n",
              "      <th>2</th>\n",
              "      <td>The App</td>\n",
              "      <td>Science fiction/Drama</td>\n",
              "      <td>2019-12-26</td>\n",
              "      <td>79</td>\n",
              "      <td>2.6</td>\n",
              "      <td>Italian</td>\n",
              "    </tr>\n",
              "    <tr>\n",
              "      <th>3</th>\n",
              "      <td>The Open House</td>\n",
              "      <td>Horror thriller</td>\n",
              "      <td>2018-01-19</td>\n",
              "      <td>94</td>\n",
              "      <td>3.2</td>\n",
              "      <td>English</td>\n",
              "    </tr>\n",
              "    <tr>\n",
              "      <th>4</th>\n",
              "      <td>Kaali Khuhi</td>\n",
              "      <td>Mystery</td>\n",
              "      <td>2020-10-30</td>\n",
              "      <td>90</td>\n",
              "      <td>3.4</td>\n",
              "      <td>Hindi</td>\n",
              "    </tr>\n",
              "  </tbody>\n",
              "</table>\n",
              "</div>"
            ],
            "text/plain": [
              "             Title                  Genre  ... IMDB Score          Language\n",
              "0  Enter the Anime            Documentary  ...        2.5  English/Japanese\n",
              "1      Dark Forces               Thriller  ...        2.6           Spanish\n",
              "2          The App  Science fiction/Drama  ...        2.6           Italian\n",
              "3   The Open House        Horror thriller  ...        3.2           English\n",
              "4      Kaali Khuhi                Mystery  ...        3.4             Hindi\n",
              "\n",
              "[5 rows x 6 columns]"
            ]
          },
          "metadata": {},
          "execution_count": 84
        }
      ]
    },
    {
      "cell_type": "code",
      "metadata": {
        "colab": {
          "base_uri": "https://localhost:8080/",
          "height": 206
        },
        "id": "0RldrR_vQS4P",
        "outputId": "219cc3d9-8475-4467-ea3c-acb120219829"
      },
      "source": [
        "#Adding one more feature\n",
        "df['year_added'] = df['Premiere'].dt.year\n",
        "df.head()"
      ],
      "execution_count": null,
      "outputs": [
        {
          "output_type": "execute_result",
          "data": {
            "text/html": [
              "<div>\n",
              "<style scoped>\n",
              "    .dataframe tbody tr th:only-of-type {\n",
              "        vertical-align: middle;\n",
              "    }\n",
              "\n",
              "    .dataframe tbody tr th {\n",
              "        vertical-align: top;\n",
              "    }\n",
              "\n",
              "    .dataframe thead th {\n",
              "        text-align: right;\n",
              "    }\n",
              "</style>\n",
              "<table border=\"1\" class=\"dataframe\">\n",
              "  <thead>\n",
              "    <tr style=\"text-align: right;\">\n",
              "      <th></th>\n",
              "      <th>Title</th>\n",
              "      <th>Genre</th>\n",
              "      <th>Premiere</th>\n",
              "      <th>Runtime</th>\n",
              "      <th>IMDB Score</th>\n",
              "      <th>Language</th>\n",
              "      <th>year_added</th>\n",
              "    </tr>\n",
              "  </thead>\n",
              "  <tbody>\n",
              "    <tr>\n",
              "      <th>0</th>\n",
              "      <td>Enter the Anime</td>\n",
              "      <td>Documentary</td>\n",
              "      <td>2019-08-05</td>\n",
              "      <td>58</td>\n",
              "      <td>2.5</td>\n",
              "      <td>English/Japanese</td>\n",
              "      <td>2019</td>\n",
              "    </tr>\n",
              "    <tr>\n",
              "      <th>1</th>\n",
              "      <td>Dark Forces</td>\n",
              "      <td>Thriller</td>\n",
              "      <td>2020-08-21</td>\n",
              "      <td>81</td>\n",
              "      <td>2.6</td>\n",
              "      <td>Spanish</td>\n",
              "      <td>2020</td>\n",
              "    </tr>\n",
              "    <tr>\n",
              "      <th>2</th>\n",
              "      <td>The App</td>\n",
              "      <td>Science fiction/Drama</td>\n",
              "      <td>2019-12-26</td>\n",
              "      <td>79</td>\n",
              "      <td>2.6</td>\n",
              "      <td>Italian</td>\n",
              "      <td>2019</td>\n",
              "    </tr>\n",
              "    <tr>\n",
              "      <th>3</th>\n",
              "      <td>The Open House</td>\n",
              "      <td>Horror thriller</td>\n",
              "      <td>2018-01-19</td>\n",
              "      <td>94</td>\n",
              "      <td>3.2</td>\n",
              "      <td>English</td>\n",
              "      <td>2018</td>\n",
              "    </tr>\n",
              "    <tr>\n",
              "      <th>4</th>\n",
              "      <td>Kaali Khuhi</td>\n",
              "      <td>Mystery</td>\n",
              "      <td>2020-10-30</td>\n",
              "      <td>90</td>\n",
              "      <td>3.4</td>\n",
              "      <td>Hindi</td>\n",
              "      <td>2020</td>\n",
              "    </tr>\n",
              "  </tbody>\n",
              "</table>\n",
              "</div>"
            ],
            "text/plain": [
              "             Title                  Genre  ...          Language  year_added\n",
              "0  Enter the Anime            Documentary  ...  English/Japanese        2019\n",
              "1      Dark Forces               Thriller  ...           Spanish        2020\n",
              "2          The App  Science fiction/Drama  ...           Italian        2019\n",
              "3   The Open House        Horror thriller  ...           English        2018\n",
              "4      Kaali Khuhi                Mystery  ...             Hindi        2020\n",
              "\n",
              "[5 rows x 7 columns]"
            ]
          },
          "metadata": {},
          "execution_count": 97
        }
      ]
    },
    {
      "cell_type": "code",
      "metadata": {
        "colab": {
          "base_uri": "https://localhost:8080/"
        },
        "id": "SkCj4NbYQlJO",
        "outputId": "a3fb23b1-b478-45a8-c86b-6d7d3130d284"
      },
      "source": [
        "df.year_added.unique()"
      ],
      "execution_count": null,
      "outputs": [
        {
          "output_type": "execute_result",
          "data": {
            "text/plain": [
              "array([2019, 2020, 2018, 2021, 2016, 2017, 2015, 2014])"
            ]
          },
          "metadata": {},
          "execution_count": 99
        }
      ]
    },
    {
      "cell_type": "code",
      "metadata": {
        "colab": {
          "base_uri": "https://localhost:8080/"
        },
        "id": "724PaW6SQ6WF",
        "outputId": "ca287779-32b9-4b2f-dcde-f7a10f23d010"
      },
      "source": [
        "df.year_added.value_counts()"
      ],
      "execution_count": null,
      "outputs": [
        {
          "output_type": "execute_result",
          "data": {
            "text/plain": [
              "2020    183\n",
              "2019    125\n",
              "2018     99\n",
              "2021     71\n",
              "2017     66\n",
              "2016     30\n",
              "2015      9\n",
              "2014      1\n",
              "Name: year_added, dtype: int64"
            ]
          },
          "metadata": {},
          "execution_count": 100
        }
      ]
    },
    {
      "cell_type": "code",
      "metadata": {
        "colab": {
          "base_uri": "https://localhost:8080/"
        },
        "id": "DY67j4M0NOPa",
        "outputId": "22b7dc0e-ef49-4a06-8779-90f87ed4629a"
      },
      "source": [
        "df.Language.unique()"
      ],
      "execution_count": null,
      "outputs": [
        {
          "output_type": "execute_result",
          "data": {
            "text/plain": [
              "array(['English/Japanese', 'Spanish', 'Italian', 'English', 'Hindi',\n",
              "       'Turkish', 'Korean', 'Indonesian', 'Malay', 'Dutch', 'French',\n",
              "       'English/Spanish', 'Portuguese', 'Filipino', 'German', 'Polish',\n",
              "       'Norwegian', 'Marathi', 'Thai', 'Swedish', 'Japanese',\n",
              "       'Spanish/Basque', 'Spanish/Catalan', 'English/Swedish',\n",
              "       'English/Taiwanese/Mandarin', 'Thia/English', 'English/Mandarin',\n",
              "       'Georgian', 'Bengali', 'Khmer/English/French', 'English/Hindi',\n",
              "       'Tamil', 'Spanish/English', 'English/Korean', 'English/Arabic',\n",
              "       'English/Russian', 'English/Akan', 'English/Ukranian/Russian'],\n",
              "      dtype=object)"
            ]
          },
          "metadata": {},
          "execution_count": 85
        }
      ]
    },
    {
      "cell_type": "code",
      "metadata": {
        "colab": {
          "base_uri": "https://localhost:8080/"
        },
        "id": "FwmiWmmJIqcH",
        "outputId": "5435c2b8-97ee-439d-b203-98691b3ae517"
      },
      "source": [
        "df[\"Language\"].value_counts()"
      ],
      "execution_count": null,
      "outputs": [
        {
          "output_type": "execute_result",
          "data": {
            "text/plain": [
              "English                       401\n",
              "Hindi                          33\n",
              "Spanish                        31\n",
              "French                         20\n",
              "Italian                        14\n",
              "Portuguese                     12\n",
              "Indonesian                      9\n",
              "Japanese                        6\n",
              "Korean                          6\n",
              "German                          5\n",
              "Turkish                         5\n",
              "English/Spanish                 5\n",
              "Polish                          3\n",
              "Marathi                         3\n",
              "Dutch                           3\n",
              "Filipino                        2\n",
              "English/Hindi                   2\n",
              "English/Mandarin                2\n",
              "English/Japanese                2\n",
              "Thai                            2\n",
              "English/Akan                    1\n",
              "Malay                           1\n",
              "Spanish/English                 1\n",
              "Georgian                        1\n",
              "English/Taiwanese/Mandarin      1\n",
              "English/Korean                  1\n",
              "Khmer/English/French            1\n",
              "Spanish/Catalan                 1\n",
              "Swedish                         1\n",
              "English/Russian                 1\n",
              "Norwegian                       1\n",
              "Tamil                           1\n",
              "Spanish/Basque                  1\n",
              "English/Arabic                  1\n",
              "English/Swedish                 1\n",
              "English/Ukranian/Russian        1\n",
              "Bengali                         1\n",
              "Thia/English                    1\n",
              "Name: Language, dtype: int64"
            ]
          },
          "metadata": {},
          "execution_count": 86
        }
      ]
    },
    {
      "cell_type": "code",
      "metadata": {
        "colab": {
          "base_uri": "https://localhost:8080/",
          "height": 424
        },
        "id": "ljzaACDdOPYl",
        "outputId": "43486ba3-08bc-407d-dc27-a9ebb90c4ad2"
      },
      "source": [
        "df[df['Language']=='English']"
      ],
      "execution_count": null,
      "outputs": [
        {
          "output_type": "execute_result",
          "data": {
            "text/html": [
              "<div>\n",
              "<style scoped>\n",
              "    .dataframe tbody tr th:only-of-type {\n",
              "        vertical-align: middle;\n",
              "    }\n",
              "\n",
              "    .dataframe tbody tr th {\n",
              "        vertical-align: top;\n",
              "    }\n",
              "\n",
              "    .dataframe thead th {\n",
              "        text-align: right;\n",
              "    }\n",
              "</style>\n",
              "<table border=\"1\" class=\"dataframe\">\n",
              "  <thead>\n",
              "    <tr style=\"text-align: right;\">\n",
              "      <th></th>\n",
              "      <th>Title</th>\n",
              "      <th>Genre</th>\n",
              "      <th>Premiere</th>\n",
              "      <th>Runtime</th>\n",
              "      <th>IMDB Score</th>\n",
              "      <th>Language</th>\n",
              "    </tr>\n",
              "  </thead>\n",
              "  <tbody>\n",
              "    <tr>\n",
              "      <th>3</th>\n",
              "      <td>The Open House</td>\n",
              "      <td>Horror thriller</td>\n",
              "      <td>2018-01-19</td>\n",
              "      <td>94</td>\n",
              "      <td>3.2</td>\n",
              "      <td>English</td>\n",
              "    </tr>\n",
              "    <tr>\n",
              "      <th>7</th>\n",
              "      <td>The Last Days of American Crime</td>\n",
              "      <td>Heist film/Thriller</td>\n",
              "      <td>2020-06-05</td>\n",
              "      <td>149</td>\n",
              "      <td>3.7</td>\n",
              "      <td>English</td>\n",
              "    </tr>\n",
              "    <tr>\n",
              "      <th>8</th>\n",
              "      <td>Paradox</td>\n",
              "      <td>Musical/Western/Fantasy</td>\n",
              "      <td>2018-03-23</td>\n",
              "      <td>73</td>\n",
              "      <td>3.9</td>\n",
              "      <td>English</td>\n",
              "    </tr>\n",
              "    <tr>\n",
              "      <th>10</th>\n",
              "      <td>Searching for Sheela</td>\n",
              "      <td>Documentary</td>\n",
              "      <td>2021-04-22</td>\n",
              "      <td>58</td>\n",
              "      <td>4.1</td>\n",
              "      <td>English</td>\n",
              "    </tr>\n",
              "    <tr>\n",
              "      <th>14</th>\n",
              "      <td>Mercy</td>\n",
              "      <td>Thriller</td>\n",
              "      <td>2016-11-22</td>\n",
              "      <td>90</td>\n",
              "      <td>4.2</td>\n",
              "      <td>English</td>\n",
              "    </tr>\n",
              "    <tr>\n",
              "      <th>...</th>\n",
              "      <td>...</td>\n",
              "      <td>...</td>\n",
              "      <td>...</td>\n",
              "      <td>...</td>\n",
              "      <td>...</td>\n",
              "      <td>...</td>\n",
              "    </tr>\n",
              "    <tr>\n",
              "      <th>577</th>\n",
              "      <td>Dancing with the Birds</td>\n",
              "      <td>Documentary</td>\n",
              "      <td>2019-10-23</td>\n",
              "      <td>51</td>\n",
              "      <td>8.3</td>\n",
              "      <td>English</td>\n",
              "    </tr>\n",
              "    <tr>\n",
              "      <th>578</th>\n",
              "      <td>Ben Platt: Live from Radio City Music Hall</td>\n",
              "      <td>Concert Film</td>\n",
              "      <td>2020-05-20</td>\n",
              "      <td>85</td>\n",
              "      <td>8.4</td>\n",
              "      <td>English</td>\n",
              "    </tr>\n",
              "    <tr>\n",
              "      <th>579</th>\n",
              "      <td>Taylor Swift: Reputation Stadium Tour</td>\n",
              "      <td>Concert Film</td>\n",
              "      <td>2018-12-31</td>\n",
              "      <td>125</td>\n",
              "      <td>8.4</td>\n",
              "      <td>English</td>\n",
              "    </tr>\n",
              "    <tr>\n",
              "      <th>581</th>\n",
              "      <td>Springsteen on Broadway</td>\n",
              "      <td>One-man show</td>\n",
              "      <td>2018-12-16</td>\n",
              "      <td>153</td>\n",
              "      <td>8.5</td>\n",
              "      <td>English</td>\n",
              "    </tr>\n",
              "    <tr>\n",
              "      <th>583</th>\n",
              "      <td>David Attenborough: A Life on Our Planet</td>\n",
              "      <td>Documentary</td>\n",
              "      <td>2020-10-04</td>\n",
              "      <td>83</td>\n",
              "      <td>9.0</td>\n",
              "      <td>English</td>\n",
              "    </tr>\n",
              "  </tbody>\n",
              "</table>\n",
              "<p>401 rows × 6 columns</p>\n",
              "</div>"
            ],
            "text/plain": [
              "                                          Title  ... Language\n",
              "3                                The Open House  ...  English\n",
              "7               The Last Days of American Crime  ...  English\n",
              "8                                       Paradox  ...  English\n",
              "10                         Searching for Sheela  ...  English\n",
              "14                                        Mercy  ...  English\n",
              "..                                          ...  ...      ...\n",
              "577                      Dancing with the Birds  ...  English\n",
              "578  Ben Platt: Live from Radio City Music Hall  ...  English\n",
              "579       Taylor Swift: Reputation Stadium Tour  ...  English\n",
              "581                     Springsteen on Broadway  ...  English\n",
              "583    David Attenborough: A Life on Our Planet  ...  English\n",
              "\n",
              "[401 rows x 6 columns]"
            ]
          },
          "metadata": {},
          "execution_count": 87
        }
      ]
    },
    {
      "cell_type": "code",
      "metadata": {
        "colab": {
          "base_uri": "https://localhost:8080/",
          "height": 143
        },
        "id": "mbk-jTziOUw1",
        "outputId": "75abc58b-412f-43b1-b66e-83abbe3483ad"
      },
      "source": [
        "df[(df['Language'] == 'English/Japanese') | (df['Language'] == 'English/Taiwanese/Mandarin')]"
      ],
      "execution_count": null,
      "outputs": [
        {
          "output_type": "execute_result",
          "data": {
            "text/html": [
              "<div>\n",
              "<style scoped>\n",
              "    .dataframe tbody tr th:only-of-type {\n",
              "        vertical-align: middle;\n",
              "    }\n",
              "\n",
              "    .dataframe tbody tr th {\n",
              "        vertical-align: top;\n",
              "    }\n",
              "\n",
              "    .dataframe thead th {\n",
              "        text-align: right;\n",
              "    }\n",
              "</style>\n",
              "<table border=\"1\" class=\"dataframe\">\n",
              "  <thead>\n",
              "    <tr style=\"text-align: right;\">\n",
              "      <th></th>\n",
              "      <th>Title</th>\n",
              "      <th>Genre</th>\n",
              "      <th>Premiere</th>\n",
              "      <th>Runtime</th>\n",
              "      <th>IMDB Score</th>\n",
              "      <th>Language</th>\n",
              "    </tr>\n",
              "  </thead>\n",
              "  <tbody>\n",
              "    <tr>\n",
              "      <th>0</th>\n",
              "      <td>Enter the Anime</td>\n",
              "      <td>Documentary</td>\n",
              "      <td>2019-08-05</td>\n",
              "      <td>58</td>\n",
              "      <td>2.5</td>\n",
              "      <td>English/Japanese</td>\n",
              "    </tr>\n",
              "    <tr>\n",
              "      <th>287</th>\n",
              "      <td>The Outsider</td>\n",
              "      <td>Crime drama</td>\n",
              "      <td>2018-03-09</td>\n",
              "      <td>120</td>\n",
              "      <td>6.3</td>\n",
              "      <td>English/Japanese</td>\n",
              "    </tr>\n",
              "    <tr>\n",
              "      <th>343</th>\n",
              "      <td>Tigertail</td>\n",
              "      <td>Drama</td>\n",
              "      <td>2020-04-10</td>\n",
              "      <td>91</td>\n",
              "      <td>6.5</td>\n",
              "      <td>English/Taiwanese/Mandarin</td>\n",
              "    </tr>\n",
              "  </tbody>\n",
              "</table>\n",
              "</div>"
            ],
            "text/plain": [
              "               Title        Genre  ... IMDB Score                    Language\n",
              "0    Enter the Anime  Documentary  ...        2.5            English/Japanese\n",
              "287     The Outsider  Crime drama  ...        6.3            English/Japanese\n",
              "343        Tigertail        Drama  ...        6.5  English/Taiwanese/Mandarin\n",
              "\n",
              "[3 rows x 6 columns]"
            ]
          },
          "metadata": {},
          "execution_count": 88
        }
      ]
    },
    {
      "cell_type": "markdown",
      "metadata": {
        "id": "cSNjbS5IRsF6"
      },
      "source": [
        "we can analyze from here that english movies are far more than other languages"
      ]
    },
    {
      "cell_type": "code",
      "metadata": {
        "colab": {
          "base_uri": "https://localhost:8080/"
        },
        "id": "iF_XP2fEJAst",
        "outputId": "0afeb397-9440-4add-d2f2-c1f24640490b"
      },
      "source": [
        "df[\"Genre\"].value_counts()"
      ],
      "execution_count": null,
      "outputs": [
        {
          "output_type": "execute_result",
          "data": {
            "text/plain": [
              "Documentary                159\n",
              "Drama                       77\n",
              "Comedy                      49\n",
              "Romantic comedy             39\n",
              "Thriller                    33\n",
              "                          ... \n",
              "Romantic comedy/Holiday      1\n",
              "Romantic thriller            1\n",
              "Heist film/Thriller          1\n",
              "Comedy horror                1\n",
              "Christmas comedy             1\n",
              "Name: Genre, Length: 115, dtype: int64"
            ]
          },
          "metadata": {},
          "execution_count": 89
        }
      ]
    },
    {
      "cell_type": "code",
      "metadata": {
        "id": "W3JA9TkXR-qx"
      },
      "source": [
        "Documentry movies are more than other movies,then drama and than comedy and so on"
      ],
      "execution_count": null,
      "outputs": []
    },
    {
      "cell_type": "code",
      "metadata": {
        "colab": {
          "base_uri": "https://localhost:8080/"
        },
        "id": "_ByKxefEMYnT",
        "outputId": "aae76bf9-efa3-4825-ddb0-5f0b522a6289"
      },
      "source": [
        "df['IMDB Score'].unique()"
      ],
      "execution_count": null,
      "outputs": [
        {
          "output_type": "execute_result",
          "data": {
            "text/plain": [
              "array([2.5, 2.6, 3.2, 3.4, 3.5, 3.7, 3.9, 4.1, 4.2, 4.3, 4.4, 4.5, 4.6,\n",
              "       4.7, 4.8, 4.9, 5. , 5.1, 5.2, 5.3, 5.4, 5.5, 5.6, 5.7, 5.8, 5.9,\n",
              "       6. , 6.1, 6.2, 6.3, 6.4, 6.5, 6.6, 6.7, 6.8, 6.9, 7. , 7.1, 7.2,\n",
              "       7.3, 7.4, 7.5, 7.6, 7.7, 7.8, 7.9, 8. , 8.1, 8.2, 8.3, 8.4, 8.5,\n",
              "       8.6, 9. ])"
            ]
          },
          "metadata": {},
          "execution_count": 90
        }
      ]
    },
    {
      "cell_type": "code",
      "metadata": {
        "colab": {
          "base_uri": "https://localhost:8080/",
          "height": 582
        },
        "id": "gL4JpDmSMd-C",
        "outputId": "397e5692-5717-4a1d-f9b8-6b1870df7d1f"
      },
      "source": [
        "df[df['IMDB Score']>=8]"
      ],
      "execution_count": null,
      "outputs": [
        {
          "output_type": "execute_result",
          "data": {
            "text/html": [
              "<div>\n",
              "<style scoped>\n",
              "    .dataframe tbody tr th:only-of-type {\n",
              "        vertical-align: middle;\n",
              "    }\n",
              "\n",
              "    .dataframe tbody tr th {\n",
              "        vertical-align: top;\n",
              "    }\n",
              "\n",
              "    .dataframe thead th {\n",
              "        text-align: right;\n",
              "    }\n",
              "</style>\n",
              "<table border=\"1\" class=\"dataframe\">\n",
              "  <thead>\n",
              "    <tr style=\"text-align: right;\">\n",
              "      <th></th>\n",
              "      <th>Title</th>\n",
              "      <th>Genre</th>\n",
              "      <th>Premiere</th>\n",
              "      <th>Runtime</th>\n",
              "      <th>IMDB Score</th>\n",
              "      <th>Language</th>\n",
              "    </tr>\n",
              "  </thead>\n",
              "  <tbody>\n",
              "    <tr>\n",
              "      <th>567</th>\n",
              "      <td>Struggle: The Life and Lost Art of Szukaiski</td>\n",
              "      <td>Documentary</td>\n",
              "      <td>2018-12-21</td>\n",
              "      <td>105</td>\n",
              "      <td>8.0</td>\n",
              "      <td>English</td>\n",
              "    </tr>\n",
              "    <tr>\n",
              "      <th>568</th>\n",
              "      <td>Chasing Coral</td>\n",
              "      <td>Documentary</td>\n",
              "      <td>2017-07-14</td>\n",
              "      <td>89</td>\n",
              "      <td>8.1</td>\n",
              "      <td>English</td>\n",
              "    </tr>\n",
              "    <tr>\n",
              "      <th>569</th>\n",
              "      <td>My Octopus Teacher</td>\n",
              "      <td>Documentary</td>\n",
              "      <td>2020-09-07</td>\n",
              "      <td>85</td>\n",
              "      <td>8.1</td>\n",
              "      <td>English</td>\n",
              "    </tr>\n",
              "    <tr>\n",
              "      <th>570</th>\n",
              "      <td>Rising Phoenix</td>\n",
              "      <td>Documentary</td>\n",
              "      <td>2020-08-26</td>\n",
              "      <td>106</td>\n",
              "      <td>8.1</td>\n",
              "      <td>English</td>\n",
              "    </tr>\n",
              "    <tr>\n",
              "      <th>571</th>\n",
              "      <td>13th</td>\n",
              "      <td>Documentary</td>\n",
              "      <td>2016-10-07</td>\n",
              "      <td>100</td>\n",
              "      <td>8.2</td>\n",
              "      <td>English</td>\n",
              "    </tr>\n",
              "    <tr>\n",
              "      <th>572</th>\n",
              "      <td>Disclosure: Trans Lives on Screen</td>\n",
              "      <td>Documentary</td>\n",
              "      <td>2020-06-19</td>\n",
              "      <td>107</td>\n",
              "      <td>8.2</td>\n",
              "      <td>English</td>\n",
              "    </tr>\n",
              "    <tr>\n",
              "      <th>573</th>\n",
              "      <td>Klaus</td>\n",
              "      <td>Animation/Christmas/Comedy/Adventure</td>\n",
              "      <td>2019-11-15</td>\n",
              "      <td>97</td>\n",
              "      <td>8.2</td>\n",
              "      <td>English</td>\n",
              "    </tr>\n",
              "    <tr>\n",
              "      <th>574</th>\n",
              "      <td>Seaspiracy</td>\n",
              "      <td>Documentary</td>\n",
              "      <td>2021-03-24</td>\n",
              "      <td>89</td>\n",
              "      <td>8.2</td>\n",
              "      <td>English</td>\n",
              "    </tr>\n",
              "    <tr>\n",
              "      <th>575</th>\n",
              "      <td>The Three Deaths of Marisela Escobedo</td>\n",
              "      <td>Documentary</td>\n",
              "      <td>2020-10-14</td>\n",
              "      <td>109</td>\n",
              "      <td>8.2</td>\n",
              "      <td>Spanish</td>\n",
              "    </tr>\n",
              "    <tr>\n",
              "      <th>576</th>\n",
              "      <td>Cuba and the Cameraman</td>\n",
              "      <td>Documentary</td>\n",
              "      <td>2017-11-24</td>\n",
              "      <td>114</td>\n",
              "      <td>8.3</td>\n",
              "      <td>English</td>\n",
              "    </tr>\n",
              "    <tr>\n",
              "      <th>577</th>\n",
              "      <td>Dancing with the Birds</td>\n",
              "      <td>Documentary</td>\n",
              "      <td>2019-10-23</td>\n",
              "      <td>51</td>\n",
              "      <td>8.3</td>\n",
              "      <td>English</td>\n",
              "    </tr>\n",
              "    <tr>\n",
              "      <th>578</th>\n",
              "      <td>Ben Platt: Live from Radio City Music Hall</td>\n",
              "      <td>Concert Film</td>\n",
              "      <td>2020-05-20</td>\n",
              "      <td>85</td>\n",
              "      <td>8.4</td>\n",
              "      <td>English</td>\n",
              "    </tr>\n",
              "    <tr>\n",
              "      <th>579</th>\n",
              "      <td>Taylor Swift: Reputation Stadium Tour</td>\n",
              "      <td>Concert Film</td>\n",
              "      <td>2018-12-31</td>\n",
              "      <td>125</td>\n",
              "      <td>8.4</td>\n",
              "      <td>English</td>\n",
              "    </tr>\n",
              "    <tr>\n",
              "      <th>580</th>\n",
              "      <td>Winter on Fire: Ukraine's Fight for Freedom</td>\n",
              "      <td>Documentary</td>\n",
              "      <td>2015-10-09</td>\n",
              "      <td>91</td>\n",
              "      <td>8.4</td>\n",
              "      <td>English/Ukranian/Russian</td>\n",
              "    </tr>\n",
              "    <tr>\n",
              "      <th>581</th>\n",
              "      <td>Springsteen on Broadway</td>\n",
              "      <td>One-man show</td>\n",
              "      <td>2018-12-16</td>\n",
              "      <td>153</td>\n",
              "      <td>8.5</td>\n",
              "      <td>English</td>\n",
              "    </tr>\n",
              "    <tr>\n",
              "      <th>582</th>\n",
              "      <td>Emicida: AmarElo - It's All For Yesterday</td>\n",
              "      <td>Documentary</td>\n",
              "      <td>2020-12-08</td>\n",
              "      <td>89</td>\n",
              "      <td>8.6</td>\n",
              "      <td>Portuguese</td>\n",
              "    </tr>\n",
              "    <tr>\n",
              "      <th>583</th>\n",
              "      <td>David Attenborough: A Life on Our Planet</td>\n",
              "      <td>Documentary</td>\n",
              "      <td>2020-10-04</td>\n",
              "      <td>83</td>\n",
              "      <td>9.0</td>\n",
              "      <td>English</td>\n",
              "    </tr>\n",
              "  </tbody>\n",
              "</table>\n",
              "</div>"
            ],
            "text/plain": [
              "                                            Title  ...                  Language\n",
              "567  Struggle: The Life and Lost Art of Szukaiski  ...                   English\n",
              "568                                Chasing Coral   ...                   English\n",
              "569                            My Octopus Teacher  ...                   English\n",
              "570                                Rising Phoenix  ...                   English\n",
              "571                                          13th  ...                   English\n",
              "572             Disclosure: Trans Lives on Screen  ...                   English\n",
              "573                                         Klaus  ...                   English\n",
              "574                                    Seaspiracy  ...                   English\n",
              "575         The Three Deaths of Marisela Escobedo  ...                   Spanish\n",
              "576                       Cuba and the Cameraman   ...                   English\n",
              "577                        Dancing with the Birds  ...                   English\n",
              "578    Ben Platt: Live from Radio City Music Hall  ...                   English\n",
              "579         Taylor Swift: Reputation Stadium Tour  ...                   English\n",
              "580   Winter on Fire: Ukraine's Fight for Freedom  ...  English/Ukranian/Russian\n",
              "581                       Springsteen on Broadway  ...                   English\n",
              "582     Emicida: AmarElo - It's All For Yesterday  ...                Portuguese\n",
              "583      David Attenborough: A Life on Our Planet  ...                   English\n",
              "\n",
              "[17 rows x 6 columns]"
            ]
          },
          "metadata": {},
          "execution_count": 91
        }
      ]
    },
    {
      "cell_type": "code",
      "metadata": {
        "colab": {
          "base_uri": "https://localhost:8080/"
        },
        "id": "Psoq5QGeMpdi",
        "outputId": "43d561ab-c9dd-426b-a956-a4004c5e5d51"
      },
      "source": [
        "df[df['IMDB Score']>=8].count()"
      ],
      "execution_count": null,
      "outputs": [
        {
          "output_type": "execute_result",
          "data": {
            "text/plain": [
              "Title         17\n",
              "Genre         17\n",
              "Premiere      17\n",
              "Runtime       17\n",
              "IMDB Score    17\n",
              "Language      17\n",
              "dtype: int64"
            ]
          },
          "metadata": {},
          "execution_count": 92
        }
      ]
    },
    {
      "cell_type": "code",
      "metadata": {
        "colab": {
          "base_uri": "https://localhost:8080/",
          "height": 143
        },
        "id": "wNQ4isjiM60p",
        "outputId": "61324276-f2ee-4443-a819-915e46e26761"
      },
      "source": [
        "#Print the list of movies with imdb score more than or equal to 8 and runtime more than 100\n",
        "df[(df['IMDB Score'] >= 8) & (df['Runtime'] >= 114)]"
      ],
      "execution_count": null,
      "outputs": [
        {
          "output_type": "execute_result",
          "data": {
            "text/html": [
              "<div>\n",
              "<style scoped>\n",
              "    .dataframe tbody tr th:only-of-type {\n",
              "        vertical-align: middle;\n",
              "    }\n",
              "\n",
              "    .dataframe tbody tr th {\n",
              "        vertical-align: top;\n",
              "    }\n",
              "\n",
              "    .dataframe thead th {\n",
              "        text-align: right;\n",
              "    }\n",
              "</style>\n",
              "<table border=\"1\" class=\"dataframe\">\n",
              "  <thead>\n",
              "    <tr style=\"text-align: right;\">\n",
              "      <th></th>\n",
              "      <th>Title</th>\n",
              "      <th>Genre</th>\n",
              "      <th>Premiere</th>\n",
              "      <th>Runtime</th>\n",
              "      <th>IMDB Score</th>\n",
              "      <th>Language</th>\n",
              "    </tr>\n",
              "  </thead>\n",
              "  <tbody>\n",
              "    <tr>\n",
              "      <th>576</th>\n",
              "      <td>Cuba and the Cameraman</td>\n",
              "      <td>Documentary</td>\n",
              "      <td>2017-11-24</td>\n",
              "      <td>114</td>\n",
              "      <td>8.3</td>\n",
              "      <td>English</td>\n",
              "    </tr>\n",
              "    <tr>\n",
              "      <th>579</th>\n",
              "      <td>Taylor Swift: Reputation Stadium Tour</td>\n",
              "      <td>Concert Film</td>\n",
              "      <td>2018-12-31</td>\n",
              "      <td>125</td>\n",
              "      <td>8.4</td>\n",
              "      <td>English</td>\n",
              "    </tr>\n",
              "    <tr>\n",
              "      <th>581</th>\n",
              "      <td>Springsteen on Broadway</td>\n",
              "      <td>One-man show</td>\n",
              "      <td>2018-12-16</td>\n",
              "      <td>153</td>\n",
              "      <td>8.5</td>\n",
              "      <td>English</td>\n",
              "    </tr>\n",
              "  </tbody>\n",
              "</table>\n",
              "</div>"
            ],
            "text/plain": [
              "                                     Title         Genre  ... IMDB Score  Language\n",
              "576                Cuba and the Cameraman    Documentary  ...        8.3   English\n",
              "579  Taylor Swift: Reputation Stadium Tour  Concert Film  ...        8.4   English\n",
              "581                Springsteen on Broadway  One-man show  ...        8.5   English\n",
              "\n",
              "[3 rows x 6 columns]"
            ]
          },
          "metadata": {},
          "execution_count": 93
        }
      ]
    },
    {
      "cell_type": "code",
      "metadata": {
        "colab": {
          "base_uri": "https://localhost:8080/",
          "height": 314
        },
        "id": "jchuI5qqNraJ",
        "outputId": "b0cd2969-9128-44b3-d8ba-1e374eae0c79"
      },
      "source": [
        "movies_score = df[df['IMDB Score']>=8.3]\n",
        "sns.barplot(x = 'IMDB Score', y = 'Title',hue= 'Genre', data = movies_score)\n",
        "plt.figure(figsize = (6,6))"
      ],
      "execution_count": null,
      "outputs": [
        {
          "output_type": "display_data",
          "data": {
            "application/javascript": [
              "\n",
              "        if (window._pyforest_update_imports_cell) { window._pyforest_update_imports_cell('import plotly.express as px\\nimport pydot\\nfrom sklearn.feature_extraction.text import CountVectorizer\\nimport seaborn as sns\\nfrom sklearn.model_selection import cross_val_score\\nfrom sklearn.linear_model import LassoCV\\nimport pickle\\nimport plotly as py\\nfrom sklearn.linear_model import LinearRegression\\nfrom sklearn.ensemble import GradientBoostingRegressor\\nfrom statsmodels.tsa.arima_model import ARIMA\\nimport altair as alt\\nimport bokeh\\nfrom sklearn.ensemble import GradientBoostingClassifier\\nfrom sklearn.model_selection import GridSearchCV\\nfrom sklearn.preprocessing import LabelEncoder\\nfrom sklearn.linear_model import Lasso\\nimport pandas as pd\\nimport matplotlib.pyplot as plt\\nimport cv2\\nfrom sklearn.linear_model import LogisticRegression'); }\n",
              "    "
            ],
            "text/plain": [
              "<IPython.core.display.Javascript object>"
            ]
          },
          "metadata": {}
        },
        {
          "output_type": "display_data",
          "data": {
            "application/javascript": [
              "\n",
              "        if (window._pyforest_update_imports_cell) { window._pyforest_update_imports_cell('import plotly.express as px\\nimport pydot\\nfrom sklearn.feature_extraction.text import CountVectorizer\\nimport seaborn as sns\\nfrom sklearn.model_selection import cross_val_score\\nfrom sklearn.linear_model import LassoCV\\nimport pickle\\nimport plotly as py\\nfrom sklearn.linear_model import LinearRegression\\nfrom sklearn.ensemble import GradientBoostingRegressor\\nfrom statsmodels.tsa.arima_model import ARIMA\\nimport altair as alt\\nimport bokeh\\nfrom sklearn.ensemble import GradientBoostingClassifier\\nfrom sklearn.model_selection import GridSearchCV\\nfrom sklearn.preprocessing import LabelEncoder\\nfrom sklearn.linear_model import Lasso\\nimport pandas as pd\\nimport matplotlib.pyplot as plt\\nimport cv2\\nfrom sklearn.linear_model import LogisticRegression'); }\n",
              "    "
            ],
            "text/plain": [
              "<IPython.core.display.Javascript object>"
            ]
          },
          "metadata": {}
        },
        {
          "output_type": "execute_result",
          "data": {
            "text/plain": [
              "<Figure size 432x432 with 0 Axes>"
            ]
          },
          "metadata": {},
          "execution_count": 94
        },
        {
          "output_type": "display_data",
          "data": {
            "image/png": "[encoded data removed]",
            "text/plain": [
              "<Figure size 432x288 with 1 Axes>"
            ]
          },
          "metadata": {
            "needs_background": "light"
          }
        },
        {
          "output_type": "display_data",
          "data": {
            "text/plain": [
              "<Figure size 432x432 with 0 Axes>"
            ]
          },
          "metadata": {}
        }
      ]
    },
    {
      "cell_type": "code",
      "metadata": {
        "colab": {
          "base_uri": "https://localhost:8080/",
          "height": 1000
        },
        "id": "k9S-2p7ALeGV",
        "outputId": "0d52d260-d06a-42ff-a00d-668312b9227a"
      },
      "source": [
        "AV.AutoViz('/content/NetflixOriginals.csv')"
      ],
      "execution_count": null,
      "outputs": [
        {
          "output_type": "stream",
          "name": "stdout",
          "text": [
            "Shape of your Data Set loaded: (584, 6)\n",
            "############## C L A S S I F Y I N G  V A R I A B L E S  ####################\n",
            "Classifying variables in data set...\n",
            "    Number of Numeric Columns =  1\n",
            "    Number of Integer-Categorical Columns =  1\n",
            "    Number of String-Categorical Columns =  0\n",
            "    Number of Factor-Categorical Columns =  0\n",
            "    Number of String-Boolean Columns =  0\n",
            "    Number of Numeric-Boolean Columns =  0\n",
            "    Number of Discrete String Columns =  3\n",
            "    Number of NLP String Columns =  0\n",
            "    Number of Date Time Columns =  0\n",
            "    Number of ID Columns =  1\n",
            "    Number of Columns to Delete =  0\n",
            "    6 Predictors classified...\n",
            "        This does not include the Target column(s)\n",
            "        4 variables removed since they were ID or low-information variables\n"
          ]
        },
        {
          "output_type": "display_data",
          "data": {
            "image/png": "[encoded data removed]",
            "text/plain": [
              "<Figure size 1080x360 with 3 Axes>"
            ]
          },
          "metadata": {
            "needs_background": "light"
          }
        },
        {
          "output_type": "display_data",
          "data": {
            "image/png": "[encoded data removed]",
            "text/plain": [
              "<Figure size 1080x360 with 1 Axes>"
            ]
          },
          "metadata": {
            "needs_background": "light"
          }
        },
        {
          "output_type": "display_data",
          "data": {
            "image/png": "[encoded data removed]",
            "text/plain": [
              "<Figure size 1080x288 with 1 Axes>"
            ]
          },
          "metadata": {
            "needs_background": "light"
          }
        },
        {
          "output_type": "display_data",
          "data": {
            "image/png": "[encoded data removed]",
            "text/plain": [
              "<Figure size 432x288 with 2 Axes>"
            ]
          },
          "metadata": {
            "needs_background": "light"
          }
        },
        {
          "output_type": "display_data",
          "data": {
            "image/png": "[encoded data removed]",
            "text/plain": [
              "<Figure size 1440x360 with 1 Axes>"
            ]
          },
          "metadata": {
            "needs_background": "light"
          }
        },
        {
          "output_type": "stream",
          "name": "stdout",
          "text": [
            "Time to run AutoViz (in seconds) = 2.350\n",
            "\n",
            " ###################### VISUALIZATION Completed ########################\n"
          ]
        },
        {
          "output_type": "execute_result",
          "data": {
            "text/html": [
              "<div>\n",
              "<style scoped>\n",
              "    .dataframe tbody tr th:only-of-type {\n",
              "        vertical-align: middle;\n",
              "    }\n",
              "\n",
              "    .dataframe tbody tr th {\n",
              "        vertical-align: top;\n",
              "    }\n",
              "\n",
              "    .dataframe thead th {\n",
              "        text-align: right;\n",
              "    }\n",
              "</style>\n",
              "<table border=\"1\" class=\"dataframe\">\n",
              "  <thead>\n",
              "    <tr style=\"text-align: right;\">\n",
              "      <th></th>\n",
              "      <th>Runtime</th>\n",
              "      <th>IMDB Score</th>\n",
              "    </tr>\n",
              "  </thead>\n",
              "  <tbody>\n",
              "    <tr>\n",
              "      <th>0</th>\n",
              "      <td>58</td>\n",
              "      <td>2.5</td>\n",
              "    </tr>\n",
              "    <tr>\n",
              "      <th>1</th>\n",
              "      <td>81</td>\n",
              "      <td>2.6</td>\n",
              "    </tr>\n",
              "    <tr>\n",
              "      <th>2</th>\n",
              "      <td>79</td>\n",
              "      <td>2.6</td>\n",
              "    </tr>\n",
              "    <tr>\n",
              "      <th>3</th>\n",
              "      <td>94</td>\n",
              "      <td>3.2</td>\n",
              "    </tr>\n",
              "    <tr>\n",
              "      <th>4</th>\n",
              "      <td>90</td>\n",
              "      <td>3.4</td>\n",
              "    </tr>\n",
              "    <tr>\n",
              "      <th>...</th>\n",
              "      <td>...</td>\n",
              "      <td>...</td>\n",
              "    </tr>\n",
              "    <tr>\n",
              "      <th>579</th>\n",
              "      <td>125</td>\n",
              "      <td>8.4</td>\n",
              "    </tr>\n",
              "    <tr>\n",
              "      <th>580</th>\n",
              "      <td>91</td>\n",
              "      <td>8.4</td>\n",
              "    </tr>\n",
              "    <tr>\n",
              "      <th>581</th>\n",
              "      <td>153</td>\n",
              "      <td>8.5</td>\n",
              "    </tr>\n",
              "    <tr>\n",
              "      <th>582</th>\n",
              "      <td>89</td>\n",
              "      <td>8.6</td>\n",
              "    </tr>\n",
              "    <tr>\n",
              "      <th>583</th>\n",
              "      <td>83</td>\n",
              "      <td>9.0</td>\n",
              "    </tr>\n",
              "  </tbody>\n",
              "</table>\n",
              "<p>584 rows × 2 columns</p>\n",
              "</div>"
            ],
            "text/plain": [
              "     Runtime  IMDB Score\n",
              "0         58         2.5\n",
              "1         81         2.6\n",
              "2         79         2.6\n",
              "3         94         3.2\n",
              "4         90         3.4\n",
              "..       ...         ...\n",
              "579      125         8.4\n",
              "580       91         8.4\n",
              "581      153         8.5\n",
              "582       89         8.6\n",
              "583       83         9.0\n",
              "\n",
              "[584 rows x 2 columns]"
            ]
          },
          "metadata": {},
          "execution_count": 95
        }
      ]
    },
    {
      "cell_type": "markdown",
      "metadata": {
        "id": "iVC1d1-VTfkt"
      },
      "source": [
        "By using autoviz we can visualize imdb score and run time even better way"
      ]
    },
    {
      "cell_type": "code",
      "metadata": {
        "id": "F84NdS1pSft5"
      },
      "source": [
        "By using autoviz we can visualize imdb score and run time even better way"
      ],
      "execution_count": null,
      "outputs": []
    },
    {
      "cell_type": "markdown",
      "metadata": {
        "id": "jSdFFJ3uTOGt"
      },
      "source": [
        "Here EDA completes.it is useful for further processing."
      ]
    }
  ]
}